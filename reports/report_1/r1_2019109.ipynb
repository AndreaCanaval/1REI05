{
 "cells": [
  {
   "cell_type": "markdown",
   "id": "319e8c65",
   "metadata": {},
   "source": [
    "## Reporte 1:"
   ]
  },
  {
   "cell_type": "code",
   "execution_count": 4,
   "id": "cd364c8f",
   "metadata": {},
   "outputs": [
    {
     "data": {
      "text/plain": [
       "5"
      ]
     },
     "execution_count": 4,
     "metadata": {},
     "output_type": "execute_result"
    }
   ],
   "source": [
    "x=3\n",
    "y=2\n",
    "x+y"
   ]
  },
  {
   "cell_type": "markdown",
   "id": "fb272b7e",
   "metadata": {},
   "source": [
    "# hola"
   ]
  }
 ],
 "metadata": {
  "kernelspec": {
   "display_name": "Python 3 (ipykernel)",
   "language": "python",
   "name": "python3"
  },
  "language_info": {
   "codemirror_mode": {
    "name": "ipython",
    "version": 3
   },
   "file_extension": ".py",
   "mimetype": "text/x-python",
   "name": "python",
   "nbconvert_exporter": "python",
   "pygments_lexer": "ipython3",
   "version": "3.9.7"
  }
 },
 "nbformat": 4,
 "nbformat_minor": 5
}
