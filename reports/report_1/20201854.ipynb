{
 "cells": [
  {
   "cell_type": "code",
   "execution_count": 7,
   "id": "cfc15db7",
   "metadata": {},
   "outputs": [],
   "source": [
    "import numpy as np\n"
   ]
  },
  {
   "cell_type": "code",
   "execution_count": 8,
   "id": "69edf8f0",
   "metadata": {},
   "outputs": [],
   "source": [
    "import pandas as pd\n"
   ]
  },
  {
   "cell_type": "code",
   "execution_count": 9,
   "id": "a899954e",
   "metadata": {},
   "outputs": [],
   "source": [
    "import matplotlib.pyplot as plt\n"
   ]
  },
  {
   "cell_type": "code",
   "execution_count": 10,
   "id": "ef0963f5",
   "metadata": {},
   "outputs": [],
   "source": [
    "from causalgraphicalmodels import CausalGraphicalModel\n"
   ]
  },
  {
   "cell_type": "markdown",
   "id": "dae7de9b",
   "metadata": {},
   "source": [
    "Respuesta 1:\n",
    "El autor introduce cómo luego de 4 años de rápida expansión se presenció que la economía peruana tuvo un “frenazo”. Según lo menciona Dancourt, lo denominado como un “choque externo negativo” ocurrió debido a que la tasa de PBI no primario cayó a un 3.6% y a un 2.4% durante los años 2014 y 2015. La pregunta de investigación del artículo está guiada por las políticas monetarias y fiscales para entonces poder analizar las causas (como el desplome mundial de los precios de los metales o como la seguía crediticia en dólares) y consecuencias (como el impacto de inflación en el Perú en los próximos años) del ya mencionado choque externo negativo. Asimismo, no se estudia solo las políticas monetarias y fiscales que se dieron como causas sino también las que se dieron como contestación ante el choque externo. Finalmente, el autor hace un análisis de la gestión de Kucynski y los retos que debió enfrentar para hacer frente a la época de las vacas flacas.\n",
    "\n",
    "Respuesta 2:\n",
    "Con el fin de responder a la pregunta de investigación, Dancourt señaló lo que podemos considerar fortalezas y debilidades en su documento. Como fortalezas, podemos observar que el autor no solo señaló las problemáticas y cómo el gobierno había tomado decisiones que arriesgaron la política monetaria del país y cómo esta se vio influenciada también por el mercado externo, sino que también señala una serie de alternativas a seguir o que debieron haber sido implementadas. A su vez, estas alternativas son acompañadas de la teoría económica keynesiana para una mejor sustentación.  También, se realizó una secuencia histórica que sirvió para analizar las variables presentes en el periodo de recesión económica intensa en la que decreció la actividad económica, esto con el fin de analizar su futura posible trayectoria. Respecto a las debilidades, se observa que el paper no señala el estado de los gobiernos regionales y locales, pues si bien el autor abarca el tema de la inversión por parte de estos, no indica que los mencionados gobiernos regionales y locales tienen el factor corrupción, la cual es una variable determinante que puede terminar disminuyendo el total de la inversión. Por otra parte, se encuentra como debilidad el punto del uso de la teoría keynesiana puesto como fortaleza arriba, pues si bien ayuda a fundamentar lo desarrollado respecto a la economía minera, deja de lado otros tipos de economía que son de igual importancia, incluso, hace caso omiso del sector ilegal, una de las economías reconocidas en Perú como ser de mayor nivel; por lo tanto, podemos observar que el uso de la teoría keynesiana tiene un doble efecto.\n",
    "\n",
    "Respuesta 3:\n",
    "La contribución del documento del autor a la pregunta de investigación del artículo son dos. En primer lugar, se observa que el autor hace énfasis en que las medidas tomadas por el gobierno para evadir esta etapa de recesión no han sido totalmente efectivas, por lo tanto, despliega un par de alternativas a utilizar en un futuro para poder salir de la etapa de vacas flacas. En segundo lugar, menciona también el autor que la época de mejor solvencia económica en el Perú (época de vacas gordas) fueron dependientes de la economía externa y que hubo poco desarrollo de la productividad en la actividad económica nacional, concluyendo al final que esta clase de accionar es completamente arriesgado, debido a que si se ve afectado el mercado externo el mercado nacional también tendrá repercuciones (como sucedió con el desplome de los precios de los metales en el mercado mundial).\n",
    "\n",
    "Respuesta 4:"
   ]
  },
  {
   "cell_type": "code",
   "execution_count": 11,
   "id": "5f20cfc2",
   "metadata": {},
   "outputs": [],
   "source": [
    "%matplotlib inline\n",
    "import ipywidgets as widgets\n",
    "import matplotlib.pyplot as plt\n",
    "import numpy as np\n",
    "import sympy as sy\n",
    "from sympy import *\n",
    "import pandas as pd\n",
    "from causalgraphicalmodels import CausalGraphicalModel"
   ]
  }
 ],
 "metadata": {
  "kernelspec": {
   "display_name": "Python 3 (ipykernel)",
   "language": "python",
   "name": "python3"
  },
  "language_info": {
   "codemirror_mode": {
    "name": "ipython",
    "version": 3
   },
   "file_extension": ".py",
   "mimetype": "text/x-python",
   "name": "python",
   "nbconvert_exporter": "python",
   "pygments_lexer": "ipython3",
   "version": "3.9.12"
  }
 },
 "nbformat": 4,
 "nbformat_minor": 5
}
