{
 "cells": [
  {
   "cell_type": "markdown",
   "id": "8e82390e",
   "metadata": {},
   "source": [
    "## Reporte 1:\n",
    "Nombre: Valeria"
   ]
  },
  {
   "cell_type": "markdown",
   "id": "402e50bb",
   "metadata": {},
   "source": [
    "kjejkedhfjkerk"
   ]
  },
  {
   "cell_type": "code",
   "execution_count": 1,
   "id": "5cbde88d",
   "metadata": {},
   "outputs": [
    {
     "data": {
      "text/plain": [
       "5"
      ]
     },
     "execution_count": 1,
     "metadata": {},
     "output_type": "execute_result"
    }
   ],
   "source": [
    "x=2\n",
    "y=3\n",
    "x+y"
   ]
  }
 ],
 "metadata": {
  "kernelspec": {
   "display_name": "Python 3 (ipykernel)",
   "language": "python",
   "name": "python3"
  },
  "language_info": {
   "codemirror_mode": {
    "name": "ipython",
    "version": 3
   },
   "file_extension": ".py",
   "mimetype": "text/x-python",
   "name": "python",
   "nbconvert_exporter": "python",
   "pygments_lexer": "ipython3",
   "version": "3.9.7"
  }
 },
 "nbformat": 4,
 "nbformat_minor": 5
}
