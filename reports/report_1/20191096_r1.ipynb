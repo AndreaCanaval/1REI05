{
 "cells": [
  {
   "cell_type": "markdown",
   "id": "ce570f17",
   "metadata": {},
   "source": [
    "## Reporte 1:\n",
    "Nombre\n",
    "jhdskjdskjd"
   ]
  },
  {
   "cell_type": "code",
   "execution_count": 2,
   "id": "9dfe601a",
   "metadata": {},
   "outputs": [
    {
     "data": {
      "text/plain": [
       "15"
      ]
     },
     "execution_count": 2,
     "metadata": {},
     "output_type": "execute_result"
    }
   ],
   "source": [
    "x=12\n",
    "y=3\n",
    "x+y"
   ]
  }
 ],
 "metadata": {
  "kernelspec": {
   "display_name": "Python 3 (ipykernel)",
   "language": "python",
   "name": "python3"
  },
  "language_info": {
   "codemirror_mode": {
    "name": "ipython",
    "version": 3
   },
   "file_extension": ".py",
   "mimetype": "text/x-python",
   "name": "python",
   "nbconvert_exporter": "python",
   "pygments_lexer": "ipython3",
   "version": "3.9.7"
  }
 },
 "nbformat": 4,
 "nbformat_minor": 5
}
