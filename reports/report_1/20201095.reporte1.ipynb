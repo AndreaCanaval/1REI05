{
 "cells": [
  {
   "cell_type": "code",
   "execution_count": 61,
   "id": "e61964ba",
   "metadata": {},
   "outputs": [],
   "source": [
    "import ipywidgets as widgets\n",
    "import matplotlib as plt\n",
    "import numpy as np\n",
    "import sympy as sy\n",
    "from sympy import *\n",
    "import pandas as pd\n",
    "from causalgraphicalmodels import CausalGraphicalModel\n",
    "from matplotlib import pyplot as plt"
   ]
  },
  {
   "cell_type": "markdown",
   "id": "ae7f5644",
   "metadata": {},
   "source": [
    "REPORTE 1 - Parte escrita\n",
    "\n",
    "La pregunta de Investigación del articulo es ¿Cómo afrontar en el Perú en los años 2014-15 las medidas monetarias, fiscales y efectos macroeconómicos?\n",
    "\n",
    "El enfoque del documento de Dancourt tiene muchas fortalezas. Pues explica a través de todo el artículo que para entender en la actualidad los diferentes efectos económicos, monetarios y fiscales hay que entender cómo es que se ha trabajado previamente en el país. Explica detalladamente los periodos de recesión y qué medidas tomó el gobierno, más específicamente, el Banco Central de Reserva del Perú. Explica que muchas veces vendían reservas (llega hasta la mitad), otras las mantenían para así lograr tener la inflación controlada. Todo esto es muy importante en el Perú debido al momento de hiperinflación en la década del 80; es por eso que el BCRP toma muy en cuenta y es muy riguroso en estos temas. Otra gran fortaleza del artículo es la presentación de gráficos, los cuales ayudan al lector a entender mejor los diferentes efectos macroeconómicos en el tiempo. Una parte que considero muy interesante y que me ha ayudado a entender un poco la actualidad del país, es cuando el autor menciona que en épocas de \"vacas flacas\", el precio del dolar sube, hay menos trabajos y menos consumos y esto lo explica la historia macroeconómica del peru. Este artículo, aunque sea de la época de PPK, nos ayuda a entender cómo el dolar ha subido su precio durante este gobierno de Pedro Castillo. Puede que una debilidad del artículo sea que es un poco complicado de entender de no tener conceptos macroeconómicos, sería interesante hacerlo un poco más simple y amigable para el lector.\n",
    "\n",
    "Como mencioné anteriormente, el documento contribuye mucho a poder entender cómo los efectos económicos, monetarios y fiscales han afectado en el Perú; debido a que se explica con la historia macroeconómica del país y puede verse una especie de ciclo o patrón que continúa en nuestro país. "
   ]
  },
  {
   "cell_type": "code",
   "execution_count": 5,
   "id": "473873e4",
   "metadata": {},
   "outputs": [
    {
     "name": "stdout",
     "output_type": "stream",
     "text": [
      "Requirement already satisfied: numpy in /Users/sofiadager/opt/anaconda3/lib/python3.9/site-packages (1.21.5)\n",
      "Note: you may need to restart the kernel to use updated packages.\n"
     ]
    }
   ],
   "source": [
    "pip install numpy"
   ]
  },
  {
   "cell_type": "code",
   "execution_count": 6,
   "id": "91d4ed5e",
   "metadata": {},
   "outputs": [
    {
     "name": "stdout",
     "output_type": "stream",
     "text": [
      "Requirement already satisfied: pd in /Users/sofiadager/opt/anaconda3/lib/python3.9/site-packages (0.0.4)\n",
      "Note: you may need to restart the kernel to use updated packages.\n"
     ]
    }
   ],
   "source": [
    "pip install pd"
   ]
  },
  {
   "cell_type": "code",
   "execution_count": 7,
   "id": "7a79a926",
   "metadata": {},
   "outputs": [
    {
     "name": "stdout",
     "output_type": "stream",
     "text": [
      "Requirement already satisfied: matplotlib in /Users/sofiadager/opt/anaconda3/lib/python3.9/site-packages (3.5.1)\n",
      "Requirement already satisfied: pillow>=6.2.0 in /Users/sofiadager/opt/anaconda3/lib/python3.9/site-packages (from matplotlib) (9.0.1)\n",
      "Requirement already satisfied: fonttools>=4.22.0 in /Users/sofiadager/opt/anaconda3/lib/python3.9/site-packages (from matplotlib) (4.25.0)\n",
      "Requirement already satisfied: packaging>=20.0 in /Users/sofiadager/opt/anaconda3/lib/python3.9/site-packages (from matplotlib) (21.3)\n",
      "Requirement already satisfied: numpy>=1.17 in /Users/sofiadager/opt/anaconda3/lib/python3.9/site-packages (from matplotlib) (1.21.5)\n",
      "Requirement already satisfied: pyparsing>=2.2.1 in /Users/sofiadager/opt/anaconda3/lib/python3.9/site-packages (from matplotlib) (3.0.4)\n",
      "Requirement already satisfied: python-dateutil>=2.7 in /Users/sofiadager/opt/anaconda3/lib/python3.9/site-packages (from matplotlib) (2.8.2)\n",
      "Requirement already satisfied: kiwisolver>=1.0.1 in /Users/sofiadager/opt/anaconda3/lib/python3.9/site-packages (from matplotlib) (1.3.2)\n",
      "Requirement already satisfied: cycler>=0.10 in /Users/sofiadager/opt/anaconda3/lib/python3.9/site-packages (from matplotlib) (0.11.0)\n",
      "Requirement already satisfied: six>=1.5 in /Users/sofiadager/opt/anaconda3/lib/python3.9/site-packages (from python-dateutil>=2.7->matplotlib) (1.16.0)\n",
      "Note: you may need to restart the kernel to use updated packages.\n"
     ]
    }
   ],
   "source": [
    "pip install matplotlib"
   ]
  },
  {
   "cell_type": "code",
   "execution_count": 8,
   "id": "75ebf15c",
   "metadata": {},
   "outputs": [
    {
     "name": "stdout",
     "output_type": "stream",
     "text": [
      "Requirement already satisfied: graphviz in /Users/sofiadager/opt/anaconda3/lib/python3.9/site-packages (0.18)\n",
      "Note: you may need to restart the kernel to use updated packages.\n"
     ]
    }
   ],
   "source": [
    "pip install graphviz "
   ]
  },
  {
   "cell_type": "code",
   "execution_count": 9,
   "id": "e476987b",
   "metadata": {
    "scrolled": true
   },
   "outputs": [
    {
     "name": "stdout",
     "output_type": "stream",
     "text": [
      "Requirement already satisfied: causalgraphicalmodels in /Users/sofiadager/opt/anaconda3/lib/python3.9/site-packages (0.0.4)\n",
      "Requirement already satisfied: numpy in /Users/sofiadager/opt/anaconda3/lib/python3.9/site-packages (from causalgraphicalmodels) (1.21.5)\n",
      "Requirement already satisfied: pandas in /Users/sofiadager/opt/anaconda3/lib/python3.9/site-packages (from causalgraphicalmodels) (1.4.2)\n",
      "Requirement already satisfied: graphviz in /Users/sofiadager/opt/anaconda3/lib/python3.9/site-packages (from causalgraphicalmodels) (0.18)\n",
      "Requirement already satisfied: networkx in /Users/sofiadager/opt/anaconda3/lib/python3.9/site-packages (from causalgraphicalmodels) (2.7.1)\n",
      "Requirement already satisfied: python-dateutil>=2.8.1 in /Users/sofiadager/opt/anaconda3/lib/python3.9/site-packages (from pandas->causalgraphicalmodels) (2.8.2)\n",
      "Requirement already satisfied: pytz>=2020.1 in /Users/sofiadager/opt/anaconda3/lib/python3.9/site-packages (from pandas->causalgraphicalmodels) (2021.3)\n",
      "Requirement already satisfied: six>=1.5 in /Users/sofiadager/opt/anaconda3/lib/python3.9/site-packages (from python-dateutil>=2.8.1->pandas->causalgraphicalmodels) (1.16.0)\n",
      "Note: you may need to restart the kernel to use updated packages.\n"
     ]
    }
   ],
   "source": [
    "pip install causalgraphicalmodels"
   ]
  },
  {
   "cell_type": "code",
   "execution_count": 130,
   "id": "931cff05",
   "metadata": {},
   "outputs": [],
   "source": [
    "# Parámetros\n",
    "\n",
    "Y_size = 100 \n",
    "\n",
    "Co = 10\n",
    "Io = 40\n",
    "Go = 70\n",
    "Xo = 2\n",
    "h = 0.7\n",
    "b = 0.5 # b > m\n",
    "m = 0.2\n",
    "t = 0.3\n",
    "r = 0.9\n",
    "Yd = 7\n",
    "\n",
    "\n",
    "Y = np.arange(Y_size)\n",
    "\n",
    "# Ecuación de la curva del ingreso de equilibrio\n",
    "\n",
    "def DA_K(Co, Io, Go, Xo, h, r, b, m, t, Y):\n",
    "    DA_K = (Co + Io + Go + Xo - h*r) + ((b - m)*(1 - t)*Y)\n",
    "    return DA_K\n",
    "\n",
    "DA_IS_K = DA_K(Co, Io, Go, Xo, h, r, b, m, t, Y)"
   ]
  },
  {
   "cell_type": "code",
   "execution_count": 96,
   "id": "634b7176",
   "metadata": {},
   "outputs": [
    {
     "data": {
      "text/plain": [
       "39.37"
      ]
     },
     "execution_count": 96,
     "metadata": {},
     "output_type": "execute_result"
    }
   ],
   "source": [
    "I"
   ]
  },
  {
   "cell_type": "code",
   "execution_count": 93,
   "id": "37d5b75b",
   "metadata": {},
   "outputs": [
    {
     "data": {
      "text/plain": [
       "121.37"
      ]
     },
     "execution_count": 93,
     "metadata": {},
     "output_type": "execute_result"
    }
   ],
   "source": [
    "(10+40+70+2-(0.7*0.9))"
   ]
  },
  {
   "cell_type": "code",
   "execution_count": 155,
   "id": "2761ded6",
   "metadata": {},
   "outputs": [
    {
     "data": {
      "text/plain": [
       "70.0"
      ]
     },
     "execution_count": 155,
     "metadata": {},
     "output_type": "execute_result"
    }
   ],
   "source": [
    "#DA = 121.37\n",
    "#Para sacar Yd\n",
    "yd = ((1-t)*Y)\n",
    "#asumiendo que Y es 100 (en millones de soles)\n",
    "(1-0.3)*100"
   ]
  },
  {
   "cell_type": "code",
   "execution_count": 156,
   "id": "3e339429",
   "metadata": {},
   "outputs": [],
   "source": [
    "Yd = 70"
   ]
  },
  {
   "cell_type": "code",
   "execution_count": 4,
   "id": "4fc7c24d",
   "metadata": {},
   "outputs": [
    {
     "data": {
      "text/plain": [
       "array([ 0,  1,  2,  3,  4,  5,  6,  7,  8,  9, 10, 11, 12, 13, 14, 15, 16,\n",
       "       17, 18, 19, 20, 21, 22, 23, 24, 25, 26, 27, 28, 29, 30, 31, 32, 33,\n",
       "       34, 35, 36, 37, 38, 39, 40, 41, 42, 43, 44, 45, 46, 47, 48, 49, 50,\n",
       "       51, 52, 53, 54, 55, 56, 57, 58, 59, 60, 61, 62, 63, 64, 65, 66, 67,\n",
       "       68, 69, 70, 71, 72, 73, 74, 75, 76, 77, 78, 79, 80, 81, 82, 83, 84,\n",
       "       85, 86, 87, 88, 89, 90, 91, 92, 93, 94, 95, 96, 97, 98, 99])"
      ]
     },
     "execution_count": 4,
     "metadata": {},
     "output_type": "execute_result"
    }
   ],
   "source": [
    "Y"
   ]
  },
  {
   "cell_type": "code",
   "execution_count": 5,
   "id": "81c1dc6f",
   "metadata": {},
   "outputs": [],
   "source": [
    "# Recta de 45°\n",
    "\n",
    "a = 2.5 \n",
    "\n",
    "def L_45(a, Y):\n",
    "    L_45 = a*Y\n",
    "    return L_45\n",
    "\n",
    "L_45 = L_45(a, Y)"
   ]
  },
  {
   "cell_type": "code",
   "execution_count": 160,
   "id": "2893ca15",
   "metadata": {},
   "outputs": [],
   "source": [
    "\n",
    "Total_Yd = 70\n",
    "Co = 10\n",
    "b = 0.5\n",
    "Yd = np.arange(Total_Yd)\n",
    "\n",
    "#Demanda de consumo\n",
    "#C=Co+b*Yd\n",
    "\n",
    "def Ecu_C(Co, b, Yd):\n",
    "    Ecu_C = (Co + (b*Yd))\n",
    "    return Ecu_C\n",
    "Ecu_C =  Ecu_C = (Co + (b*Yd))"
   ]
  },
  {
   "cell_type": "code",
   "execution_count": 159,
   "id": "a94cd109",
   "metadata": {},
   "outputs": [],
   "source": []
  },
  {
   "cell_type": "code",
   "execution_count": 161,
   "id": "981e7fa6",
   "metadata": {},
   "outputs": [
    {
     "data": {
      "text/plain": [
       "array([10. , 10.5, 11. , 11.5, 12. , 12.5, 13. , 13.5, 14. , 14.5, 15. ,\n",
       "       15.5, 16. , 16.5, 17. , 17.5, 18. , 18.5, 19. , 19.5, 20. , 20.5,\n",
       "       21. , 21.5, 22. , 22.5, 23. , 23.5, 24. , 24.5, 25. , 25.5, 26. ,\n",
       "       26.5, 27. , 27.5, 28. , 28.5, 29. , 29.5, 30. , 30.5, 31. , 31.5,\n",
       "       32. , 32.5, 33. , 33.5, 34. , 34.5, 35. , 35.5, 36. , 36.5, 37. ,\n",
       "       37.5, 38. , 38.5, 39. , 39.5, 40. , 40.5, 41. , 41.5, 42. , 42.5,\n",
       "       43. , 43.5, 44. , 44.5])"
      ]
     },
     "execution_count": 161,
     "metadata": {},
     "output_type": "execute_result"
    }
   ],
   "source": [
    "Ecu_C"
   ]
  },
  {
   "cell_type": "code",
   "execution_count": 48,
   "id": "98469d00",
   "metadata": {},
   "outputs": [],
   "source": [
    "#La demanda de Consumo se consigue con la formula mostrada arriba. Para conseguir el Yd, supuse que Y era 10 y claculé la formula presentada en clase"
   ]
  },
  {
   "cell_type": "code",
   "execution_count": 69,
   "id": "d3c55d16",
   "metadata": {},
   "outputs": [],
   "source": [
    "# Recta de 45°\n",
    "\n",
    "a = 2.5 \n",
    "\n",
    "def L_45(a, Y):\n",
    "    L_45 = a*Y\n",
    "    return L_45\n",
    "\n",
    "L_45 = L_45(a, Y)"
   ]
  },
  {
   "cell_type": "code",
   "execution_count": 162,
   "id": "1874bb01",
   "metadata": {},
   "outputs": [
    {
     "data": {
      "image/png": "[encoded data removed]",
      "text/plain": [
       "<Figure size 720x576 with 1 Axes>"
      ]
     },
     "metadata": {
      "needs_background": "light"
     },
     "output_type": "display_data"
    }
   ],
   "source": [
    "# Gráfico\n",
    "\n",
    "# Dimensiones del gráfico\n",
    "y_max = np.max(Ecu_C)\n",
    "fig, ax = plt.subplots(figsize=(10, 8))\n",
    "\n",
    "\n",
    "# Curvas a graficar\n",
    "ax.plot(Ecu_C, label = \"C\", color = \"green\") \n",
    "ax.plot(Y, L_45, color = \"#404040\") #Línea de 45º\n",
    "\n",
    "\n",
    "# Líneas punteadas punto de equilibrio\n",
    "plt.axvline(x=70.5,  ymin= 0, ymax= 0.69, linestyle = \":\", color = \"grey\")\n",
    "plt.axhline(y=176, xmin= 0, xmax= 0.7, linestyle = \":\", color = \"grey\")\n",
    "\n",
    "# Texto agregado\n",
    "\n",
    "# Título y leyenda\n",
    "ax.set(title=\"Demanda de Consumo\", xlabel= r'Yd', ylabel= r'C')\n",
    "ax.legend() #mostrar leyenda\n",
    "\n",
    "plt.show()\n"
   ]
  },
  {
   "cell_type": "code",
   "execution_count": 164,
   "id": "add575fc",
   "metadata": {},
   "outputs": [],
   "source": [
    "#Inversión\n",
    "\n",
    "def Ecu_I(Io, h, r):\n",
    "    Ecu_I = (Io - (h*r))\n",
    "    return Ecu_I\n",
    "Ecu_I = Ecu_I = (Io - (h*r))\n",
    "\n",
    "\n",
    "Total_Yd = 70\n",
    "Io = 40\n",
    "h = 0.7\n",
    "r = 0.9\n",
    "Yd = np.arange(Total_Yd)\n"
   ]
  },
  {
   "cell_type": "code",
   "execution_count": 165,
   "id": "5b8269ee",
   "metadata": {},
   "outputs": [
    {
     "data": {
      "text/plain": [
       "39.37"
      ]
     },
     "execution_count": 165,
     "metadata": {},
     "output_type": "execute_result"
    }
   ],
   "source": [
    "Ecu_I"
   ]
  },
  {
   "cell_type": "code",
   "execution_count": 126,
   "id": "2b0c3771",
   "metadata": {},
   "outputs": [],
   "source": [
    "def I(Io, h, r):\n",
    "    I = (Io - (h*r))\n",
    "    return I"
   ]
  },
  {
   "cell_type": "code",
   "execution_count": 127,
   "id": "79cc2f5c",
   "metadata": {},
   "outputs": [
    {
     "data": {
      "text/plain": [
       "<function __main__.I(Io, h, r)>"
      ]
     },
     "execution_count": 127,
     "metadata": {},
     "output_type": "execute_result"
    }
   ],
   "source": [
    "I"
   ]
  },
  {
   "cell_type": "code",
   "execution_count": 168,
   "id": "6966e039",
   "metadata": {},
   "outputs": [
    {
     "data": {
      "image/png": "[encoded data removed]",
      "text/plain": [
       "<Figure size 720x576 with 1 Axes>"
      ]
     },
     "metadata": {
      "needs_background": "light"
     },
     "output_type": "display_data"
    }
   ],
   "source": [
    "# Dimensiones del gráfico\n",
    "y_max = np.max(Ecu_I)\n",
    "fig, ax = plt.subplots(figsize=(10, 8))\n",
    "\n",
    "\n",
    "# Curvas a graficar\n",
    "ax.plot(Ecu_I, label = \"I\", color = \"#3D59AB\") \n",
    "ax.plot(Y, L_45, color = \"#404040\") #Línea de 45º\n",
    "\n",
    "# Líneas punteadas punto de equilibrio\n",
    "plt.axvline(x=70.5,  ymin= 0, ymax= 0.69, linestyle = \":\", color = \"grey\")\n",
    "plt.axhline(y=176, xmin= 0, xmax= 0.7, linestyle = \":\", color = \"grey\")\n",
    "\n",
    "# Texto agregado\n",
    "\n",
    "# Título y leyenda\n",
    "ax.set(title=\"Demanda de Inversión\", xlabel= r'r', ylabel= r'I')\n",
    "ax.legend() #mostrar leyenda\n",
    "\n",
    "plt.show()\n",
    "\n"
   ]
  },
  {
   "cell_type": "code",
   "execution_count": null,
   "id": "b1586ef9",
   "metadata": {},
   "outputs": [],
   "source": []
  }
 ],
 "metadata": {
  "kernelspec": {
   "display_name": "Python 3 (ipykernel)",
   "language": "python",
   "name": "python3"
  },
  "language_info": {
   "codemirror_mode": {
    "name": "ipython",
    "version": 3
   },
   "file_extension": ".py",
   "mimetype": "text/x-python",
   "name": "python",
   "nbconvert_exporter": "python",
   "pygments_lexer": "ipython3",
   "version": "3.9.12"
  }
 },
 "nbformat": 4,
 "nbformat_minor": 5
}
