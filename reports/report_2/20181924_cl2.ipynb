{
 "cells": [
  {
   "cell_type": "code",
   "execution_count": 7,
   "id": "0f8b05c5",
   "metadata": {},
   "outputs": [],
   "source": [
    "%matplotlib widget\n",
    "%matplotlib inline\n",
    "import ipywidgets as widgets\n",
    "import matplotlib.pyplot as plt\n",
    "import numpy as np\n",
    "import sympy as sy\n",
    "from sympy import *\n",
    "import pandas as pd\n",
    "from causalgraphicalmodels import CausalGraphicalModel"
   ]
  },
  {
   "cell_type": "markdown",
   "id": "92b13c9a",
   "metadata": {},
   "source": [
    "El presente artículo escrito por Martinelli y Vega trata sobre el periodo de crisis económica que ha atravesado el Perú desde la inflación de los 70´s, la hiperinflación de los 80´s y la estabilización de los 90´s. En ese sentido, la pregunta principal que se plantean los autores sería sobre qué factores económicos  o a que responde que se haya orillado esta crisis de los 70-80´s en el Perú, y como es qué pudo estabilizarse en la década de los 90´s. Para ello, analiza estos eventos históricos a partir del enfoque monetarista."
   ]
  },
  {
   "cell_type": "markdown",
   "id": "60a0aa44",
   "metadata": {},
   "source": [
    "De esta manera, una de las principales fortalezas de este artículo es que parece contestar la pregunta principal, pues las variables de dicho enfoque sí están relacionados al fenómeno de la inflación. Primero, se analizó la recaudación fiscal y como es que el déficit de esté, generado por los impuestos inflacionarios y la acumulación de deuda externa, coincidía con el aumento de la hiperestanflación sistemática  hasta fines de los 80´s. Segundo, se realizó el mismo ejercicio con el control de precios, y contracción de la demanda e inversión, lo cual de hecho complementaron con teorías institucionalistas que aludían a la debilidad o poca capacidad estatal de crear incentivos. Tercero, identifica como factores desencadenantes las torpes decisiones políticas que solo acrecentaban el problema de la deuda, estancamiento e inflación, así como una mala gestión monetaria; de hecho, se confirma la importancia de estas variables, pues pudo ser posible revetir el proceso de estancamiento e inflación y sentar las bases para un posible crecimiento económico posterior. Esto es lo bueno que tiene el enfoque monetario, pues es útil cuando se analizan eventos vincualdos a la retracción o expansión de la oferta monetaria."
   ]
  },
  {
   "cell_type": "markdown",
   "id": "161310b8",
   "metadata": {},
   "source": [
    "Sin embargo, también el texto presenta algunas debilidades en la búsqueda de la respuesta de la pregunta de investigación. Por ejemplo, si bien es cierto que el BCR, la tasa de interés y la política monetaria tienen un papel importante a la macroeconomía, no es posible explicar un fenómeno como una recesión o inflación usando únicamente este enfoque y un análisis superficial institucionalista. Sobre todo un proceso de los 70, 80´s que no solo venía ocurriendo en el Perú, sino también en toda la región latinoamericana, debido a la caída del precio de las exportaciones. Por lo que ignorar factores como estos, o incluso vinculadas a la inversión y reducirlo a una ajuste en la política monetaria, no brindaría una respuesta holística a la pregunta."
   ]
  },
  {
   "cell_type": "markdown",
   "id": "7464b3e4",
   "metadata": {},
   "source": [
    "No obstante, es innegable el aporte que dan los autores al investigar un fenómeno tan relevante y significativo como fueron los 70, 80, 90´s en el Perú, pues las crisis económicas, políticas y sociales dejaron una huella fuerte en el imaginario colectivo y tienen un impacto en las dinámicas económicas y políticas actuales, así como en otros países de la región. Asimismo, es un buen ejemplo para profundizar en el enfoque monetario con un ejemplo muy práctico y de relativo fácil entendimiento. También, ha dejado algunas bases para futuras investigaciones. Creo que los siguientes pasos, serían o bien analizar el mismo fenómeno (o tal vez solo uno en particular) desde otros enfoques económicos o tal vez profundizar en otras variables dentro de la Demanda Agregada como las exportaciones o la inversión, no para competir o desmentir este artículo, sino más bien para complementarlo."
   ]
  },
  {
   "cell_type": "markdown",
   "id": "1c159e56",
   "metadata": {},
   "source": [
    "A) El Modelo Ingreso-Gasto: la Curva IS"
   ]
  },
  {
   "cell_type": "markdown",
   "id": "2922b9c9",
   "metadata": {},
   "source": [
    "Utilizando las ecuaciones derive paso a paso la curva IS matemáticamente (a partir de la condición de equilibrio Y = DA)."
   ]
  },
  {
   "cell_type": "code",
   "execution_count": null,
   "id": "701c768b",
   "metadata": {},
   "outputs": [],
   "source": []
  },
  {
   "cell_type": "markdown",
   "id": "a3c96f0b",
   "metadata": {},
   "source": [
    "Utilizando la función de equilibrio IS donde r está en función de Y, encuentre  que representa la pendiente y qué signo tiene?"
   ]
  },
  {
   "cell_type": "code",
   "execution_count": null,
   "id": "a64fcb9f",
   "metadata": {},
   "outputs": [],
   "source": []
  },
  {
   "cell_type": "markdown",
   "id": "c54a2d2d",
   "metadata": {},
   "source": [
    "Lea la sección 4.4 del material de enseñanza y explique cómo se deriva la curva IS a partir del equilibrio  y grafique lo siguiente:"
   ]
  },
  {
   "cell_type": "code",
   "execution_count": null,
   "id": "824dbc05",
   "metadata": {},
   "outputs": [],
   "source": []
  },
  {
   "cell_type": "markdown",
   "id": "ba435c07",
   "metadata": {},
   "source": [
    "B) La Curva IS o el equilibrio Ahorro- Inversión"
   ]
  },
  {
   "cell_type": "markdown",
   "id": "c5cad71c",
   "metadata": {},
   "source": [
    "Derive la ecuación de IS a partir de la igualdad Ahorro-Inversión y grafique la curva IS de equilibrio en el Mercado de Bienes."
   ]
  },
  {
   "cell_type": "markdown",
   "id": "32ae8e20",
   "metadata": {},
   "source": [
    "La curva IS se deriva de la igualdad entre el ingreso  (𝑌)  y la demanda agregada  (𝐷𝐴) :\n",
    "\n",
    "𝑌=𝐶+𝐼+𝐺+𝑋−𝑀\n",
    " \n",
    "Considerando que:\n",
    "\n",
    "𝐶=𝐶0+𝑏𝑌𝑑\n",
    "𝐼=𝐼0−ℎ𝑟\n",
    "𝐺=𝐺0\n",
    "𝑇=𝑡𝑌\n",
    "𝑋=𝑋0\n",
    "𝑀=𝑚𝑌𝑑\n",
    "Para llegar al equilibrio Ahorro-Inversión, debemos restar la tributación (𝑇) de ambos miembros de la igualdad.\n",
    "\n",
    "𝑌−𝑇=𝐶+𝐼−𝑇+𝐺+𝑋−𝑀\n",
    "𝑌𝑑=𝐶+𝐼−𝑇+𝐺+𝑋−𝑀\n",
    "Esta igualdad se puede reescribir de la siguiente forma:\n",
    "\n",
    "(𝑌𝑑−𝐶)+(𝑇−𝐺)+(𝑀−𝑋)=𝐼\n",
    "Las tres partes de la derecha constituyen los tres componentes del ahorro total (𝑆): ahorro privado (𝑆𝑝), ahorro del gobierno (𝑆𝑔) y ahorro externo (𝑆𝑒):\n",
    "\n",
    "𝑆=𝑆𝑝+𝑆𝑔+𝑆𝑒\n",
    "Entonces, el ahorro total es igual a la inversión\n",
    "\n",
    "𝑆𝑝+𝑆𝑔+𝑆𝑒=𝐼\n",
    "𝑆(𝑌)=𝐼(𝑟)\n",
    "Haciendo reemplazos se obtiene que:\n",
    "\n",
    "𝑆𝑝+𝑆𝑔+𝑆𝑒=𝐼0−ℎ𝑟\n",
    "(𝑌𝑑−𝐶0−𝑏𝑌𝑑)+(𝑇−𝐺0)+(𝑚𝑌𝑑−𝑋0)=𝐼0−ℎ𝑟\n",
    "Considerando las observaciones anteriores sobre los componentes de la condición de equilibrio (𝑌):\n",
    "\n",
    "[1−(𝑏−𝑚)(1−𝑡)]𝑌−(𝐶0+𝐺0+𝑋0)=𝐼0−ℎ𝑟\n",
    "La curva IS se puede expresar con una ecuación donde la tasa de interés es una función del ingreso:\n",
    "\n",
    "ℎ𝑟=(𝐶0+𝐺0+𝐼0+𝑋0)−(1−(𝑏−𝑚)(1−𝑡))𝑌\n",
    "𝑟=1ℎ(𝐶0+𝐺0+𝐼0+𝑋0)−1−(𝑏−𝑚)(1−𝑡)ℎ𝑌\n",
    "Y puede simplificarse en:\n",
    "\n",
    "𝑟=𝐵0ℎ−𝐵1ℎ𝑌\n",
    "Donde 𝐵0=𝐶0+𝐺0+𝐼0+𝑋0 es el intercepto y 𝐵1=1−(𝑏−𝑚)(1−𝑡) es la pendiente.\n",
    "\n",
    "Y la curva IS se grafica de la siguiente manera:"
   ]
  },
  {
   "cell_type": "code",
   "execution_count": 4,
   "id": "a74f6bb6",
   "metadata": {},
   "outputs": [],
   "source": [
    "# Parámetros\n",
    "\n",
    "Y_size = 100 \n",
    "\n",
    "Co = 35\n",
    "Io = 40\n",
    "Go = 70\n",
    "Xo = 2\n",
    "h = 0.7\n",
    "b = 0.8\n",
    "m = 0.2\n",
    "t = 0.3\n",
    "\n",
    "Y = np.arange(Y_size)\n",
    "\n",
    "\n",
    "# Ecuación \n",
    "def r_IS(b, m, t, Co, Io, Go, Xo, h, Y):\n",
    "    r_IS = (Co + Io + Go + Xo - Y * (1-(b-m)*(1-t)))/h\n",
    "    return r_IS\n",
    "\n",
    "r = r_IS(b, m, t, Co, Io, Go, Xo, h, Y)"
   ]
  },
  {
   "cell_type": "code",
   "execution_count": 5,
   "id": "8e09ade0",
   "metadata": {},
   "outputs": [
    {
     "data": {
      "image/png": "[encoded data removed]",
      "text/plain": [
       "<Figure size 720x576 with 1 Axes>"
      ]
     },
     "metadata": {},
     "output_type": "display_data"
    }
   ],
   "source": [
    "# Gráfico de la curva IS\n",
    "\n",
    "# Dimensiones del gráfico\n",
    "y_max = np.max(r)\n",
    "fig, ax = plt.subplots(figsize=(10, 8))\n",
    "\n",
    "# Curvas a graficar\n",
    "ax.plot(Y, r, label = \"IS\", color = \"#8B0A50\") #Demanda agregada\n",
    "\n",
    "# Eliminar las cantidades de los ejes\n",
    "ax.yaxis.set_major_locator(plt.NullLocator())   \n",
    "ax.xaxis.set_major_locator(plt.NullLocator())\n",
    "\n",
    "# Título, ejes y leyenda\n",
    "ax.set(title = \"Curva IS\", xlabel= 'Y', ylabel= 'r')\n",
    "ax.legend()\n",
    "\n",
    "plt.show()"
   ]
  },
  {
   "cell_type": "code",
   "execution_count": null,
   "id": "0c187360",
   "metadata": {},
   "outputs": [],
   "source": []
  },
  {
   "cell_type": "markdown",
   "id": "ca6898ec",
   "metadata": {},
   "source": [
    "c. Desequilibrios en el mercado de bienes"
   ]
  },
  {
   "cell_type": "markdown",
   "id": "a871e6a2",
   "metadata": {},
   "source": [
    "Grafique las áreas de exceso de oferta o exceso de demanda en el mercado de bienes. Explique por qué estos puntos están fuera de los puntos de equilibrio en el mercado de bienes."
   ]
  },
  {
   "cell_type": "code",
   "execution_count": null,
   "id": "923d2846",
   "metadata": {},
   "outputs": [],
   "source": []
  },
  {
   "cell_type": "markdown",
   "id": "3219c236",
   "metadata": {},
   "source": [
    "d. Movimientos de la curva IS\n"
   ]
  },
  {
   "cell_type": "markdown",
   "id": "9ca20865",
   "metadata": {},
   "source": [
    "Analice una Política Fiscal Contractiva con caída del Gasto del Gobierno . El análisis debe ser intuitivo y gráfico."
   ]
  },
  {
   "cell_type": "code",
   "execution_count": null,
   "id": "8cc03d0b",
   "metadata": {},
   "outputs": [],
   "source": []
  },
  {
   "cell_type": "code",
   "execution_count": 8,
   "id": "5c113075",
   "metadata": {},
   "outputs": [
    {
     "ename": "NameError",
     "evalue": "name 'r_G' is not defined",
     "output_type": "error",
     "traceback": [
      "\u001b[1;31m---------------------------------------------------------------------------\u001b[0m",
      "\u001b[1;31mNameError\u001b[0m                                 Traceback (most recent call last)",
      "Input \u001b[1;32mIn [8]\u001b[0m, in \u001b[0;36m<cell line: 9>\u001b[1;34m()\u001b[0m\n\u001b[0;32m      7\u001b[0m \u001b[38;5;66;03m# Curvas a graficar\u001b[39;00m\n\u001b[0;32m      8\u001b[0m ax\u001b[38;5;241m.\u001b[39mplot(Y, r, label \u001b[38;5;241m=\u001b[39m \u001b[38;5;124m\"\u001b[39m\u001b[38;5;124mIS\u001b[39m\u001b[38;5;124m\"\u001b[39m, color \u001b[38;5;241m=\u001b[39m \u001b[38;5;124m\"\u001b[39m\u001b[38;5;124mblack\u001b[39m\u001b[38;5;124m\"\u001b[39m) \u001b[38;5;66;03m#IS orginal\u001b[39;00m\n\u001b[1;32m----> 9\u001b[0m ax\u001b[38;5;241m.\u001b[39mplot(Y, \u001b[43mr_G\u001b[49m, label \u001b[38;5;241m=\u001b[39m \u001b[38;5;124m\"\u001b[39m\u001b[38;5;124mIS_G\u001b[39m\u001b[38;5;124m\"\u001b[39m, color \u001b[38;5;241m=\u001b[39m \u001b[38;5;124m\"\u001b[39m\u001b[38;5;124mC1\u001b[39m\u001b[38;5;124m\"\u001b[39m, linestyle \u001b[38;5;241m=\u001b[39m \u001b[38;5;124m'\u001b[39m\u001b[38;5;124mdashed\u001b[39m\u001b[38;5;124m'\u001b[39m) \u001b[38;5;66;03m#Nueva IS\u001b[39;00m\n\u001b[0;32m     11\u001b[0m \u001b[38;5;66;03m# Texto agregado\u001b[39;00m\n\u001b[0;32m     12\u001b[0m plt\u001b[38;5;241m.\u001b[39mtext(\u001b[38;5;241m47\u001b[39m, \u001b[38;5;241m162\u001b[39m, \u001b[38;5;124m'\u001b[39m\u001b[38;5;124m∆Go\u001b[39m\u001b[38;5;124m'\u001b[39m, fontsize\u001b[38;5;241m=\u001b[39m\u001b[38;5;241m12\u001b[39m, color\u001b[38;5;241m=\u001b[39m\u001b[38;5;124m'\u001b[39m\u001b[38;5;124mblack\u001b[39m\u001b[38;5;124m'\u001b[39m)\n",
      "\u001b[1;31mNameError\u001b[0m: name 'r_G' is not defined"
     ]
    },
    {
     "data": {
      "image/png": "[encoded data removed]",
      "text/plain": [
       "<Figure size 720x576 with 1 Axes>"
      ]
     },
     "metadata": {
      "needs_background": "light"
     },
     "output_type": "display_data"
    }
   ],
   "source": [
    "  # Gráfico\n",
    "\n",
    "# Dimensiones del gráfico\n",
    "y_max = np.max(r)\n",
    "fig, ax = plt.subplots(figsize=(10, 8))\n",
    "\n",
    "# Curvas a graficar\n",
    "ax.plot(Y, r, label = \"IS\", color = \"black\") #IS orginal\n",
    "ax.plot(Y, r_G, label = \"IS_G\", color = \"C1\", linestyle = 'dashed') #Nueva IS\n",
    "\n",
    "# Texto agregado\n",
    "plt.text(47, 162, '∆Go', fontsize=12, color='black')\n",
    "plt.text(49, 159, '←', fontsize=15, color='grey')\n",
    "\n",
    "# Título, ejes y leyenda\n",
    "ax.set(title = \"Incremento en el Gasto de Gobierno $(G_0)$\", xlabel= 'Y', ylabel= 'r')\n",
    "ax.legend()\n",
    "\n",
    "plt.show()"
   ]
  },
  {
   "cell_type": "code",
   "execution_count": null,
   "id": "11afaf53",
   "metadata": {},
   "outputs": [],
   "source": []
  },
  {
   "cell_type": "markdown",
   "id": "1a6884e7",
   "metadata": {},
   "source": [
    "Analice una Política Fiscal Expansiva con una caída de la Tasa de Impuestos . El análisis debe ser intuitivo y gráfico."
   ]
  },
  {
   "cell_type": "code",
   "execution_count": null,
   "id": "e17a28cc",
   "metadata": {},
   "outputs": [],
   "source": []
  },
  {
   "cell_type": "code",
   "execution_count": 9,
   "id": "960130a6",
   "metadata": {},
   "outputs": [],
   "source": [
    "# Curva de ingreso de equilibrio ORIGINAL\n",
    "\n",
    "    # Parámetros\n",
    "Y_size = 100 \n",
    "\n",
    "Co = 35\n",
    "Io = 40\n",
    "Go = 70\n",
    "Xo = 2\n",
    "h = 0.7\n",
    "b = 0.8\n",
    "m = 0.2\n",
    "t = 0.3 #tasa de tributación\n",
    "r = 0.9\n",
    "\n",
    "Y = np.arange(Y_size)\n",
    "\n",
    "    # Ecuación \n",
    "def DA_K(Co, Io, Go, Xo, h, r, b, m, t, Y):\n",
    "    DA_K = (Co + Io + Go + Xo - h*r) + ((b - m)*(1 - t)*Y)\n",
    "    return DA_K\n",
    "\n",
    "DA_IS_K = DA_K(Co, Io, Go, Xo, h, r, b, m, t, Y)\n",
    "\n",
    "\n",
    "#--------------------------------------------------\n",
    "# NUEVA curva de ingreso de equilibrio\n",
    "\n",
    "    # Definir SOLO el parámetro cambiado\n",
    "t = 0.01\n",
    "\n",
    "# Generar la ecuación con el nuevo parámetros\n",
    "def DA_K(Co, Io, Go, Xo, h, r, b, m, t, Y):\n",
    "    DA_K = (Co + Io + Go + Xo - h*r) + ((b - m)*(1 - t)*Y)\n",
    "    return DA_K\n",
    "\n",
    "DA_t = DA_K(Co, Io, Go, Xo, h, r, b, m, t, Y)"
   ]
  },
  {
   "cell_type": "code",
   "execution_count": 10,
   "id": "e6228e13",
   "metadata": {},
   "outputs": [
    {
     "ename": "NameError",
     "evalue": "name 'L_45' is not defined",
     "output_type": "error",
     "traceback": [
      "\u001b[1;31m---------------------------------------------------------------------------\u001b[0m",
      "\u001b[1;31mNameError\u001b[0m                                 Traceback (most recent call last)",
      "Input \u001b[1;32mIn [10]\u001b[0m, in \u001b[0;36m<cell line: 9>\u001b[1;34m()\u001b[0m\n\u001b[0;32m      7\u001b[0m ax\u001b[38;5;241m.\u001b[39mplot(Y, DA_IS_K, label \u001b[38;5;241m=\u001b[39m \u001b[38;5;124m\"\u001b[39m\u001b[38;5;124mDA\u001b[39m\u001b[38;5;124m\"\u001b[39m, color \u001b[38;5;241m=\u001b[39m \u001b[38;5;124m\"\u001b[39m\u001b[38;5;124m#3D59AB\u001b[39m\u001b[38;5;124m\"\u001b[39m) \u001b[38;5;66;03m#curva ORIGINAL\u001b[39;00m\n\u001b[0;32m      8\u001b[0m ax\u001b[38;5;241m.\u001b[39mplot(Y, DA_t, label \u001b[38;5;241m=\u001b[39m \u001b[38;5;124m\"\u001b[39m\u001b[38;5;124mDA_t\u001b[39m\u001b[38;5;124m\"\u001b[39m, color \u001b[38;5;241m=\u001b[39m \u001b[38;5;124m\"\u001b[39m\u001b[38;5;124m#EE7600\u001b[39m\u001b[38;5;124m\"\u001b[39m, linestyle \u001b[38;5;241m=\u001b[39m \u001b[38;5;124m'\u001b[39m\u001b[38;5;124mdashed\u001b[39m\u001b[38;5;124m'\u001b[39m) \u001b[38;5;66;03m#NUEVA curva\u001b[39;00m\n\u001b[1;32m----> 9\u001b[0m ax\u001b[38;5;241m.\u001b[39mplot(Y, \u001b[43mL_45\u001b[49m, color \u001b[38;5;241m=\u001b[39m \u001b[38;5;124m\"\u001b[39m\u001b[38;5;124m#404040\u001b[39m\u001b[38;5;124m\"\u001b[39m) \u001b[38;5;66;03m#línea de 45º\u001b[39;00m\n\u001b[0;32m     11\u001b[0m \u001b[38;5;66;03m# Lineas punteadas\u001b[39;00m\n\u001b[0;32m     12\u001b[0m plt\u001b[38;5;241m.\u001b[39maxvline(x \u001b[38;5;241m=\u001b[39m \u001b[38;5;241m70.5\u001b[39m, ymin\u001b[38;5;241m=\u001b[39m \u001b[38;5;241m0\u001b[39m, ymax \u001b[38;5;241m=\u001b[39m \u001b[38;5;241m0.69\u001b[39m, linestyle \u001b[38;5;241m=\u001b[39m \u001b[38;5;124m\"\u001b[39m\u001b[38;5;124m:\u001b[39m\u001b[38;5;124m\"\u001b[39m, color \u001b[38;5;241m=\u001b[39m \u001b[38;5;124m\"\u001b[39m\u001b[38;5;124mgrey\u001b[39m\u001b[38;5;124m\"\u001b[39m)\n",
      "\u001b[1;31mNameError\u001b[0m: name 'L_45' is not defined"
     ]
    },
    {
     "data": {
      "image/png": "[encoded data removed]",
      "text/plain": [
       "<Figure size 720x576 with 1 Axes>"
      ]
     },
     "metadata": {
      "needs_background": "light"
     },
     "output_type": "display_data"
    }
   ],
   "source": [
    "# Gráfico\n",
    "y_max = np.max(DA_IS_K)\n",
    "fig, ax = plt.subplots(figsize=(10, 8))\n",
    "\n",
    "\n",
    "# Curvas a graficar\n",
    "ax.plot(Y, DA_IS_K, label = \"DA\", color = \"#3D59AB\") #curva ORIGINAL\n",
    "ax.plot(Y, DA_t, label = \"DA_t\", color = \"#EE7600\", linestyle = 'dashed') #NUEVA curva\n",
    "ax.plot(Y, L_45, color = \"#404040\") #línea de 45º\n",
    "\n",
    "# Lineas punteadas\n",
    "plt.axvline(x = 70.5, ymin= 0, ymax = 0.69, linestyle = \":\", color = \"grey\")\n",
    "plt.axhline(y = 176, xmin= 0, xmax = 0.7, linestyle = \":\", color = \"grey\")\n",
    "plt.axvline(x = 77,  ymin= 0, ymax = 0.75, linestyle = \":\", color = \"grey\")\n",
    "plt.axhline(y = 192, xmin= 0, xmax = 0.75, linestyle = \":\", color = \"grey\")\n",
    "\n",
    "# Texto agregado\n",
    "plt.text(0, 180, '$DA^e$', fontsize = 11.5, color = 'black')\n",
    "plt.text(0, 200, '$DA_t$', fontsize = 11.5, color = '#EE7600')\n",
    "plt.text(6, 4, '$45°$', fontsize = 11.5, color = 'black')\n",
    "plt.text(2.5, -3, '$◝$', fontsize = 30, color = '#404040')\n",
    "plt.text(72, 0, '$Y^e$', fontsize = 12, color = 'black')\n",
    "plt.text(80, 0, '$Y_t$', fontsize = 12, color = '#EE7600')\n",
    "plt.text(72, 45, '$→$', fontsize = 18, color = 'grey')\n",
    "plt.text(20, 180, '$↑$', fontsize = 18, color = 'grey')\n",
    "\n",
    "# Título y leyenda\n",
    "ax.set(title = \"Reducción de la Tasa de Tributación\", xlabel = r'Y', ylabel = r'DA')\n",
    "ax.legend()\n",
    "\n",
    "plt.show()"
   ]
  },
  {
   "cell_type": "markdown",
   "id": "81acb839",
   "metadata": {},
   "source": [
    "Analice una caída de la Propensión Marginal a Consumir . El análisis debe ser intuitivo y gráfico"
   ]
  },
  {
   "cell_type": "code",
   "execution_count": null,
   "id": "935883e1",
   "metadata": {},
   "outputs": [],
   "source": []
  },
  {
   "cell_type": "code",
   "execution_count": null,
   "id": "b8446aaa",
   "metadata": {},
   "outputs": [],
   "source": []
  }
 ],
 "metadata": {
  "kernelspec": {
   "display_name": "Python 3 (ipykernel)",
   "language": "python",
   "name": "python3"
  },
  "language_info": {
   "codemirror_mode": {
    "name": "ipython",
    "version": 3
   },
   "file_extension": ".py",
   "mimetype": "text/x-python",
   "name": "python",
   "nbconvert_exporter": "python",
   "pygments_lexer": "ipython3",
   "version": "3.9.12"
  }
 },
 "nbformat": 4,
 "nbformat_minor": 5
}
