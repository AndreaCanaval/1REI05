{
 "cells": [
  {
   "cell_type": "markdown",
   "id": "ae461c4c",
   "metadata": {},
   "source": [
    "<h1>Reporte 2\n",
    "\n",
    "Bruno Merino Vásquez Solis\n",
    "\n",
    "Código: 20191718\n",
    "\n",
    "El articulo “The Monetary and Fiscal History of Peru 1960- 2017” centra su atención en responder a la pregunta del por qué el intento particular de 1990 por estabilizar la economía fue exitoso basando su respuesta en análisis detallados mostrados en gráficos que muestran sus resultados a cabalidad y precisión para ayudar a explicar el proceso. \n",
    "Las fortalezas del enfoque del documento yacen en el análisis no solo de un aspecto de la economía, sino en varios de estos y en las soluciones que se intento dar a la hiperinflación. Sin embargo, solo se basa en datos estadísticos y económicos, por lo que no refleja una parte fundamental de la respuesta que se da a la pregunta de investigación que es el cambio de opinión de la población sobre el comportamiento irresponsable en asuntos fiscales y monetarios y en el como se porque se dio ese cambio.\n",
    "El documento explica de manera correcta el proceso; ya que, va avanzando de manera acertada explicando a mayor profundidad económica la situación real en el país durante la inflación, el por qué de esta, las políticas que se intentaron hacer para revertirla, la estabilización y el como funcionó. En síntesis, la contribución del autor es la explicación detallada de un evento de importancia macroeconómica en el Perú, el como y el por qué funciono la estabilización.\n",
    "Si bien, no considero que haya pasos específicos para avanzar en esta pregunta, considero que poner énfasis en el ámbito político y social de la época, es decir, la época del gobierno de Fujimori, la lucha contra el terrorismo y el Fujishcok es fundamental para entender como se da el cambio en la mentalidad tanto de la sociedad peruana como en la de sus políticos.\n"
   ]
  },
  {
   "cell_type": "code",
   "execution_count": 1,
   "id": "92c9b9e4",
   "metadata": {
    "scrolled": true
   },
   "outputs": [],
   "source": [
    "\n",
    "import ipywidgets as widgets\n",
    "import matplotlib.pyplot as plt\n",
    "import numpy as np\n",
    "import sympy as sy\n",
    "import pandas as pd\n",
    "from causalgraphicalmodels import CausalGraphicalModel\n",
    "\n"
   ]
  },
  {
   "cell_type": "markdown",
   "id": "c992a2eb",
   "metadata": {},
   "source": [
    "<h1>REPORTE2>"
   ]
  },
  {
   "cell_type": "markdown",
   "id": "bf0aacec",
   "metadata": {},
   "source": [
    "<h1>a)</h1>"
   ]
  },
  {
   "cell_type": "markdown",
   "id": "8ec313e9",
   "metadata": {},
   "source": [
    "* **Utilizando las ecuaciones derive paso a paso la curva IS matemáticamente (a partir de la condición de equilibrio Y = DA).**"
   ]
  },
  {
   "cell_type": "markdown",
   "id": "3ff08a6f",
   "metadata": {},
   "source": [
    "$$Y=DA $$"
   ]
  },
  {
   "cell_type": "markdown",
   "id": "044f2af7",
   "metadata": {},
   "source": [
    "$$ Y=C+I+G+X-M $$"
   ]
  },
  {
   "cell_type": "markdown",
   "id": "4ae9cdf6",
   "metadata": {},
   "source": [
    "$$ Y=C0+b*Y^d+I0-h*r+G0+X0-m*Y^d  $$"
   ]
  },
  {
   "cell_type": "markdown",
   "id": "0b323b7a",
   "metadata": {},
   "source": [
    "$$ Y^d=Y-T=(1-t)*Y  $$"
   ]
  },
  {
   "cell_type": "markdown",
   "id": "37e8d664",
   "metadata": {},
   "source": [
    "$$ Y=C0+b*(1-t)*Y+I0-h*r+G0+X0-m*(1-t)*Y $$"
   ]
  },
  {
   "cell_type": "markdown",
   "id": "f6fbb975",
   "metadata": {},
   "source": [
    "Factorizamos “Y”:"
   ]
  },
  {
   "cell_type": "markdown",
   "id": "dae9e399",
   "metadata": {},
   "source": [
    "$$ -Y*(1-(1-t)*(b-m)))=-C0-I0-G0-X0+h*r $$"
   ]
  },
  {
   "cell_type": "markdown",
   "id": "74a80e69",
   "metadata": {},
   "source": [
    " Despejamos \"r\" y obtenemos la IS:\n"
   ]
  },
  {
   "cell_type": "markdown",
   "id": "4275ba75",
   "metadata": {},
   "source": [
    "$$ IS:   \\dfrac{-Y*(1-(1-t)*(b-m))}{h}+ \\dfrac{(C0+I0+G0+X0)}{h}=r $$"
   ]
  },
  {
   "cell_type": "markdown",
   "id": "8488e7fd",
   "metadata": {},
   "source": [
    "* **Utilizando la función de equilibrio IS donde r está en función de Y, encuentre △r/△Y.**"
   ]
  },
  {
   "cell_type": "markdown",
   "id": "9e1fa98f",
   "metadata": {},
   "source": [
    "Hallar: △r/△Y"
   ]
  },
  {
   "cell_type": "markdown",
   "id": "243d30de",
   "metadata": {},
   "source": [
    "$$ △r=-△Y* \\dfrac{(1-(1-t)*(b-m))}{h} $$"
   ]
  },
  {
   "cell_type": "markdown",
   "id": "d07f3fb3",
   "metadata": {},
   "source": [
    "$$  \\dfrac{△r}{△Y}=-(\\dfrac{1-(1-t)*(b-m)}{h}) $$"
   ]
  },
  {
   "cell_type": "markdown",
   "id": "28dd3398",
   "metadata": {},
   "source": [
    "* **Lea la sección 4.4 del material de enseñanza y explique cómo se deriva la curva IS a partir del equilibrio Y=DA y grafique lo siguiente:**"
   ]
  },
  {
   "cell_type": "code",
   "execution_count": 2,
   "id": "b180e90e",
   "metadata": {},
   "outputs": [],
   "source": [
    "# Valores de Parametros\n",
    "Y_size = 100 \n",
    "\n",
    "C0 = 10\n",
    "I0 = 23\n",
    "G0 = 25\n",
    "X0 = 8\n",
    "h = 0.8\n",
    "b = 1.167\n",
    "m = 0.7\n",
    "t = 0.7\n",
    "r = 8.3\n",
    "\n",
    "Y = np.arange(Y_size)\n",
    "\n",
    "# Ecuación DA\n",
    "\n",
    "def DA(C0, I0, G0, X0, h, r, b, m, t, Y):\n",
    "    DA= (C0+b*(1-t)*Y+I0-h*r+G0+X0-m*(1-t)*Y)\n",
    "    return DA\n",
    "\n",
    "DA_0= DA(C0, I0, G0, X0, h, r, b, m, t, Y)"
   ]
  },
  {
   "cell_type": "code",
   "execution_count": 3,
   "id": "9c88cdb2",
   "metadata": {},
   "outputs": [],
   "source": [
    "#--------------------------------------------------\n",
    "# Recta de 45°\n",
    "\n",
    "def L_45(Y):\n",
    "    L_45 = Y\n",
    "    return L_45\n",
    "\n",
    "L_45 = L_45(Y)"
   ]
  },
  {
   "cell_type": "code",
   "execution_count": 4,
   "id": "6bcfdbe9",
   "metadata": {},
   "outputs": [],
   "source": [
    "# Generar la ecuación con el nuevo parámetro\n",
    "\n",
    "r= 0.2\n",
    "\n",
    "def DA(C0, I0, G0, X0, h, r, b, m, t, Y):\n",
    "    DA= (C0+b*(1-t)*Y+I0-h*r+G0+X0-m*(1-t)*Y)\n",
    "    return DA\n",
    "\n",
    "DA_1= DA(C0, I0, G0, X0, h, r, b, m, t, Y)"
   ]
  },
  {
   "cell_type": "code",
   "execution_count": 5,
   "id": "62e70459",
   "metadata": {},
   "outputs": [],
   "source": [
    "# Parámetros\n",
    "Y_size = 100 \n",
    "\n",
    "C0 = 10\n",
    "I0 = 23\n",
    "G0 = 25\n",
    "X0 = 8\n",
    "h = 0.8\n",
    "b = 1.167\n",
    "m = 0.7\n",
    "t = 0.7\n",
    "\n",
    "Y = np.arange(Y_size)\n",
    "\n",
    "\n",
    "# Ecuación \n",
    "def r_IS(b, m, t, Co, Io, Go, Xo, h, Y):\n",
    "    r_IS = ((C0+I0+G0+X0)/h-Y*((1-(1-t)*(b-m))/h))\n",
    "    return r_IS\n",
    "\n",
    "IS = r_IS(b, m, t, C0, I0, G0, X0, h, Y)"
   ]
  },
  {
   "cell_type": "code",
   "execution_count": 6,
   "id": "8e8358d8",
   "metadata": {},
   "outputs": [
    {
     "ename": "NameError",
     "evalue": "name 'IS_0' is not defined",
     "output_type": "error",
     "traceback": [
      "\u001b[1;31m---------------------------------------------------------------------------\u001b[0m",
      "\u001b[1;31mNameError\u001b[0m                                 Traceback (most recent call last)",
      "Input \u001b[1;32mIn [6]\u001b[0m, in \u001b[0;36m<cell line: 35>\u001b[1;34m()\u001b[0m\n\u001b[0;32m     32\u001b[0m ax2\u001b[38;5;241m.\u001b[39myaxis\u001b[38;5;241m.\u001b[39mset_major_locator(plt\u001b[38;5;241m.\u001b[39mNullLocator())   \n\u001b[0;32m     33\u001b[0m ax2\u001b[38;5;241m.\u001b[39mxaxis\u001b[38;5;241m.\u001b[39mset_major_locator(plt\u001b[38;5;241m.\u001b[39mNullLocator())\n\u001b[1;32m---> 35\u001b[0m ax2\u001b[38;5;241m.\u001b[39mplot(Y, \u001b[43mIS_0\u001b[49m, label \u001b[38;5;241m=\u001b[39m \u001b[38;5;124m\"\u001b[39m\u001b[38;5;124mIS\u001b[39m\u001b[38;5;124m\"\u001b[39m, color \u001b[38;5;241m=\u001b[39m \u001b[38;5;124m\"\u001b[39m\u001b[38;5;124mC1\u001b[39m\u001b[38;5;124m\"\u001b[39m) \n\u001b[0;32m     37\u001b[0m ax2\u001b[38;5;241m.\u001b[39maxvline(x \u001b[38;5;241m=\u001b[39m \u001b[38;5;241m76.65\u001b[39m, ymin\u001b[38;5;241m=\u001b[39m \u001b[38;5;241m0\u001b[39m, ymax \u001b[38;5;241m=\u001b[39m \u001b[38;5;241m1\u001b[39m, linestyle \u001b[38;5;241m=\u001b[39m \u001b[38;5;124m\"\u001b[39m\u001b[38;5;124m:\u001b[39m\u001b[38;5;124m\"\u001b[39m, color \u001b[38;5;241m=\u001b[39m \u001b[38;5;124m\"\u001b[39m\u001b[38;5;124mgrey\u001b[39m\u001b[38;5;124m\"\u001b[39m)\n\u001b[0;32m     38\u001b[0m ax2\u001b[38;5;241m.\u001b[39maxvline(x \u001b[38;5;241m=\u001b[39m \u001b[38;5;241m69.12\u001b[39m,  ymin\u001b[38;5;241m=\u001b[39m \u001b[38;5;241m0\u001b[39m, ymax \u001b[38;5;241m=\u001b[39m \u001b[38;5;241m1\u001b[39m, linestyle \u001b[38;5;241m=\u001b[39m \u001b[38;5;124m\"\u001b[39m\u001b[38;5;124m:\u001b[39m\u001b[38;5;124m\"\u001b[39m, color \u001b[38;5;241m=\u001b[39m \u001b[38;5;124m\"\u001b[39m\u001b[38;5;124mgrey\u001b[39m\u001b[38;5;124m\"\u001b[39m)\n",
      "\u001b[1;31mNameError\u001b[0m: name 'IS_0' is not defined"
     ]
    },
    {
     "data": {
      "image/png": "[encoded data removed]",
      "text/plain": [
       "<Figure size 576x1152 with 2 Axes>"
      ]
     },
     "metadata": {},
     "output_type": "display_data"
    }
   ],
   "source": [
    "# Gráfico de la derivación de la curva IS a partir de la igualdad (DA = Y)\n",
    "\n",
    "# Dos gráficos en un solo cuadro (ax1 para el primero y ax2 para el segundo)\n",
    "fig, (ax1, ax2) = plt.subplots(2, figsize=(8, 16)) \n",
    "\n",
    "#---------------------------------\n",
    "    # Gráfico 1: ingreso de Equilibrio\n",
    "ax1.yaxis.set_major_locator(plt.NullLocator())   \n",
    "ax1.xaxis.set_major_locator(plt.NullLocator())\n",
    "\n",
    "ax1.plot(Y, DA_1, label = \"DA*\", linestyle = \":\", color = \"blue\") \n",
    "ax1.plot(Y, DA_0, label = \"DA\", color = \"blue\") \n",
    "ax1.plot(Y, L_45, color = \"red\") \n",
    "\n",
    "ax1.axvline(x = 69.12,  ymin= 0, ymax = 0.69, linestyle = \":\", color = \"black\")\n",
    "ax1.axvline(x = 76.65, ymin= 0, ymax = 0.76, linestyle = \":\", color = \"black\")\n",
    "\n",
    "ax1.text(76.65, 80, 'E*', fontsize = 12, color = 'green')\n",
    "ax1.text(69.12, 72, 'E', fontsize = 12, color = 'green')\n",
    "ax1.text(76.65, 0, '$Y*$', fontsize = 12, color = 'green')\n",
    "ax1.text(69.12, 0, '$Y$', fontsize = 12, color = 'green')\n",
    "ax1.text(4, 2, '$45°$', fontsize = 11.5, color = 'black')\n",
    "ax1.text(2, -3, '$◝$', fontsize = 30, color = 'black')\n",
    "\n",
    "ax1.set(title = \"curva IS \", xlabel = r'Y', ylabel = r'DA')\n",
    "ax1.legend()\n",
    "\n",
    "\n",
    "#---------------------------------\n",
    "    # Gráfico 2: Curva IS\n",
    "\n",
    "ax2.yaxis.set_major_locator(plt.NullLocator())   \n",
    "ax2.xaxis.set_major_locator(plt.NullLocator())\n",
    "\n",
    "ax2.plot(Y, IS_0, label = \"IS\", color = \"C1\") \n",
    "\n",
    "ax2.axvline(x = 76.65, ymin= 0, ymax = 1, linestyle = \":\", color = \"grey\")\n",
    "ax2.axvline(x = 69.12,  ymin= 0, ymax = 1, linestyle = \":\", color = \"grey\")\n",
    "plt.axhline(y = 0.1, xmin= 0, xmax = 0.7665, linestyle = \":\", color = \"grey\")\n",
    "plt.axhline(y = 8.2, xmin= 0, xmax = 0.6912, linestyle = \":\", color = \"grey\")\n",
    "\n",
    "ax2.text(76.65, -32, '$Y1$', fontsize = 12, color = 'black')\n",
    "ax2.text(69.12, -32, '$Y0$', fontsize = 12, color = 'black')\n",
    "ax2.text(-10, 8.2, '$r_0$', fontsize = 12, color = 'black')\n",
    "ax2.text(-10, 0.1, '$r_1$', fontsize = 12, color = 'black')\n",
    "ax2.text(76.65, 0.8, 'E1', fontsize = 12, color = 'black')\n",
    "ax2.text(69.12, 10.2, 'E0', fontsize = 12, color = 'black')\n",
    "\n",
    "ax2.legend()\n",
    "\n",
    "plt.show()"
   ]
  },
  {
   "cell_type": "markdown",
   "id": "5696b38d",
   "metadata": {},
   "source": [
    "* Teniendo la demanda agregada (DA), trazamos una recta que parte del origen y que tenga 45° de pendiente. Esta recta al cruzarse con la función de DA nos dará un punto de equilibrio E en donde estarán los valores Y de equilibrio y el r de equilibrio. Si la tasa de interés disminuye, r '<r aumenta el intercepto de la función de DA y esto hace que disminuya también Y, Y'>Y; por lo tanto, se genera un nuevo punto de equilibrio E’. Entonces, la recta que une E a E’ en el plano de los ejes (Y, r) es llamada la curva IS, esta va representar el equilibrio del mercado respecto a los bienes.\n",
    "\n"
   ]
  },
  {
   "cell_type": "markdown",
   "id": "45847fea",
   "metadata": {},
   "source": [
    "<h1>b) </h1>"
   ]
  },
  {
   "cell_type": "markdown",
   "id": "b4486b66",
   "metadata": {},
   "source": [
    "* Ahorro privado + ahorro del gobierno + ahorro externo = Inversión\n",
    "* Ahorro total = I"
   ]
  },
  {
   "cell_type": "markdown",
   "id": "a17f7a5b",
   "metadata": {},
   "source": [
    "$$ S=I $$"
   ]
  },
  {
   "cell_type": "markdown",
   "id": "ccfb07d7",
   "metadata": {},
   "source": [
    "$$ Sp+Sg+Se=I0-h*r $$"
   ]
  },
  {
   "cell_type": "markdown",
   "id": "14378bda",
   "metadata": {},
   "source": [
    "* Reemplazamos el ahorro privado, ahorro del gobierno y el ahorro externo: "
   ]
  },
  {
   "cell_type": "markdown",
   "id": "541c9416",
   "metadata": {},
   "source": [
    "$$ (Y^d-C0-b*Y^d )+(T-G0 )+(m*Y^d-X0 )=I0-h*r $$"
   ]
  },
  {
   "cell_type": "markdown",
   "id": "c525f773",
   "metadata": {},
   "source": [
    "* Despejamos el ingreso disponible: Y^2"
   ]
  },
  {
   "cell_type": "markdown",
   "id": "1bbb9c8b",
   "metadata": {},
   "source": [
    "$$ Y^d*(1-b+m)+T-G0-C0-X0=I0-h*r $$"
   ]
  },
  {
   "cell_type": "markdown",
   "id": "b0faa5ee",
   "metadata": {},
   "source": [
    "* Usando la definición del ingreso disponible, reemplazamos en la función: "
   ]
  },
  {
   "cell_type": "markdown",
   "id": "bbf283ad",
   "metadata": {},
   "source": [
    "$$   Y^d=Y-T=(1-t)Y $$"
   ]
  },
  {
   "cell_type": "markdown",
   "id": "6f27cdbe",
   "metadata": {},
   "source": [
    "$$ Y*(1-t)*(1-b+m)+t*Y-G0-C0-X0=I0-h*r  $$"
   ]
  },
  {
   "cell_type": "markdown",
   "id": "6235f407",
   "metadata": {},
   "source": [
    "* Factorizamos Y:"
   ]
  },
  {
   "cell_type": "markdown",
   "id": "a74d9fba",
   "metadata": {},
   "source": [
    "$$ Y*(t+(1-t)*(1-b+m))-G0-C0-X0-I0=-h*r $$"
   ]
  },
  {
   "cell_type": "markdown",
   "id": "900de73e",
   "metadata": {},
   "source": [
    "$$ Y*(1-(1-t)*(m-b))-G0-C0-X0-I0=-h*r $$"
   ]
  },
  {
   "cell_type": "markdown",
   "id": "465b24f1",
   "metadata": {},
   "source": [
    "* Despejamos r:"
   ]
  },
  {
   "cell_type": "markdown",
   "id": "928db124",
   "metadata": {},
   "source": [
    "$$ G0+C0+X0+I0-Y*(1-(1-t)*(m-b))=h*r $$"
   ]
  },
  {
   "cell_type": "markdown",
   "id": "9faa1a0e",
   "metadata": {},
   "source": [
    "* Obtenemos la curva IS a partir de las funciones ahorro-inversión: "
   ]
  },
  {
   "cell_type": "markdown",
   "id": "2476c242",
   "metadata": {},
   "source": [
    "$$ IS:      \\dfrac{(G0+C0+X0+I0)}{h}-\\dfrac{(1-(1-t)*(m-b))}{h}*Y=r $$"
   ]
  },
  {
   "cell_type": "code",
   "execution_count": 7,
   "id": "9e494443",
   "metadata": {},
   "outputs": [],
   "source": [
    "#  Curva IS\n",
    "Y_size = 100 \n",
    "\n",
    "C0 = 22\n",
    "I0 = 25\n",
    "G0 = 35\n",
    "X0 = 12\n",
    "h = 1.5\n",
    "b = 1.2\n",
    "m = 1\n",
    "t = 1\n",
    "\n",
    "Y = np.arange(Y_size)\n",
    "\n",
    "\n",
    "# Ecuación \n",
    "def r_IS(b, m, t, Co, Io, Go, Xo, h, Y):\n",
    "    r_IS = ((C0+I0+G0+X0)/h-Y*((1-(1-t)*(b-m))/h))\n",
    "    return r_IS\n",
    "\n",
    "IS = r_IS(b, m, t, C0, I0, G0, X0, h, Y)"
   ]
  },
  {
   "cell_type": "code",
   "execution_count": 8,
   "id": "a53d9c3a",
   "metadata": {},
   "outputs": [
    {
     "data": {
      "image/png": "[encoded data removed]",
      "text/plain": [
       "<Figure size 720x576 with 1 Axes>"
      ]
     },
     "metadata": {},
     "output_type": "display_data"
    }
   ],
   "source": [
    "# Curva IS\n",
    "   \n",
    "\n",
    "fig, ax = plt.subplots(figsize=(10, 8))\n",
    "ax.set(title=\"LA CURVA IS\", xlabel=r'Y', ylabel=r'r')\n",
    "\n",
    "ax.plot(IS, \"k-\")\n",
    "ax.yaxis.set_major_locator(plt.NullLocator())   \n",
    "ax.xaxis.set_major_locator(plt.NullLocator())                                     \n",
    "plt.show()\n",
    "\n",
    "\n"
   ]
  },
  {
   "cell_type": "markdown",
   "id": "7bf3a2a4",
   "metadata": {},
   "source": [
    "<h1>c)</h1>"
   ]
  },
  {
   "cell_type": "code",
   "execution_count": 9,
   "id": "943328b2",
   "metadata": {},
   "outputs": [],
   "source": [
    "#Grafico Exceso oferta // Exceso demanda\n",
    "Y_size = 100 \n",
    "\n",
    "C0 = 15\n",
    "I0 = 18\n",
    "G0 = 28\n",
    "X0 = 5\n",
    "h = 0.8\n",
    "b = 0.5\n",
    "m = 0.3\n",
    "t = 0.3\n",
    "\n",
    "Y = np.arange(Y_size)\n",
    "\n",
    "\n",
    "# Ecuación \n",
    "def r_IS(b, m, t, C0, I0, G0, X0, h, Y):\n",
    "    r_IS = ((C0+I0+G0+X0)/h-Y*((1-(1-t)*(b-m))/h))\n",
    "    return r_IS\n",
    "\n",
    "IS = r_IS(b, m, t, C0, I0, G0, X0, h, Y)"
   ]
  },
  {
   "cell_type": "code",
   "execution_count": 10,
   "id": "3a1a64a8",
   "metadata": {},
   "outputs": [
    {
     "data": {
      "image/png": "[encoded data removed]",
      "text/plain": [
       "<Figure size 720x576 with 1 Axes>"
      ]
     },
     "metadata": {},
     "output_type": "display_data"
    }
   ],
   "source": [
    "#Grafico Exceso oferta // Exceso demanda\n",
    "   \n",
    "\n",
    "fig, ax = plt.subplots(figsize=(10, 8))\n",
    "ax.set(title=\"CURVA IS\", xlabel=r'Y', ylabel=r'r')\n",
    "\n",
    "\n",
    "ax.text(44, 34.13, '$A$', fontsize = 12, color = 'black')\n",
    "ax.text(15, 20, '$C$', fontsize = 12, color = 'black')\n",
    "ax.text(75, 20, '$B$', fontsize = 12, color = 'black')\n",
    "ax.text(-10, 34.13, '$r_A$', fontsize = 12, color = 'black')\n",
    "ax.text(12, 10, 'Exceso de Demanda', fontsize = 12, color = 'black')\n",
    "ax.text(35, 60, 'Exceso de Oferta', fontsize = 12, color = 'black')\n",
    "\n",
    "\n",
    "\n",
    "\n",
    "\n",
    "ax.plot(IS, \"k-\")\n",
    "ax.yaxis.set_major_locator(plt.NullLocator())   \n",
    "ax.xaxis.set_major_locator(plt.NullLocator())                                     \n",
    "plt.show()"
   ]
  },
  {
   "cell_type": "markdown",
   "id": "b09fd754",
   "metadata": {},
   "source": [
    "* Ya que los puntos están fuera de la curva IS, estos no se encuentran en equilibrio. Entonces los puntos a la derecha de la curva IS este serán exceso de oferta y los que están al lado izquierdo serán exceso de demanda.\n"
   ]
  },
  {
   "cell_type": "markdown",
   "id": "10e8771e",
   "metadata": {},
   "source": [
    "<h1>d)</h1>"
   ]
  },
  {
   "cell_type": "code",
   "execution_count": 11,
   "id": "554934a4",
   "metadata": {},
   "outputs": [],
   "source": [
    "# Grafica variacion en Ga\n",
    "#Primera IS\n",
    "Y_size = 100 \n",
    "\n",
    "C0 = 19\n",
    "I0 = 23\n",
    "G0 = 40\n",
    "X0 = 2.25\n",
    "h = 0.9\n",
    "b = 0.681\n",
    "m = 0.6\n",
    "t = 0.6\n",
    "\n",
    "Y = np.arange(Y_size)\n",
    "\n",
    "# Ecuación de la curva del ingreso de equilibrio\n",
    "\n",
    "def r_is(C0, I0, G0, X0, h, r, b, m, t, Y):\n",
    "    r_is= ((C0+I0+G0+X0)/h-Y*((1-(1-t)*(b-m))/h))\n",
    "    return r_is\n",
    "\n",
    "rG= r_is(C0, I0, G0, X0, h, r, b, m, t, Y)"
   ]
  },
  {
   "cell_type": "code",
   "execution_count": 12,
   "id": "ef236dcc",
   "metadata": {},
   "outputs": [],
   "source": [
    "# Grafica variacion en Ga\n",
    "#IS variada\n",
    "\n",
    "G0=5\n",
    "\n",
    "def r_is1(C0, I0, G0, X0, h, r, b, m, t, Y):\n",
    "    r_is1= ((C0+I0+G0+X0)/h-Y*((1-(1-t)*(b-m))/h))\n",
    "    return r_is1\n",
    "\n",
    "rG1= r_is1(C0, I0, G0, X0, h, r, b, m, t, Y)"
   ]
  },
  {
   "cell_type": "code",
   "execution_count": 13,
   "id": "abaf9a27",
   "metadata": {},
   "outputs": [
    {
     "name": "stderr",
     "output_type": "stream",
     "text": [
      "C:\\Users\\USUARIO\\AppData\\Local\\Temp\\ipykernel_4356\\3578038739.py:9: UserWarning: color is redundantly defined by the 'color' keyword argument and the fmt string \"k-\" (-> color='k'). The keyword argument will take precedence.\n",
      "  ax.plot(rG, \"k-\", color = 'green',Label=\"IS\")\n"
     ]
    },
    {
     "ename": "AttributeError",
     "evalue": "'Line2D' object has no property 'Label'",
     "output_type": "error",
     "traceback": [
      "\u001b[1;31m---------------------------------------------------------------------------\u001b[0m",
      "\u001b[1;31mAttributeError\u001b[0m                            Traceback (most recent call last)",
      "Input \u001b[1;32mIn [13]\u001b[0m, in \u001b[0;36m<cell line: 9>\u001b[1;34m()\u001b[0m\n\u001b[0;32m      6\u001b[0m ax\u001b[38;5;241m.\u001b[39mtext(\u001b[38;5;241m100\u001b[39m, \u001b[38;5;241m-\u001b[39m\u001b[38;5;241m20\u001b[39m, \u001b[38;5;124m'\u001b[39m\u001b[38;5;124m$Is$\u001b[39m\u001b[38;5;124m'\u001b[39m, fontsize \u001b[38;5;241m=\u001b[39m \u001b[38;5;241m12\u001b[39m, color \u001b[38;5;241m=\u001b[39m \u001b[38;5;124m'\u001b[39m\u001b[38;5;124mblack\u001b[39m\u001b[38;5;124m'\u001b[39m)\n\u001b[0;32m      7\u001b[0m ax\u001b[38;5;241m.\u001b[39mtext(\u001b[38;5;241m100\u001b[39m, \u001b[38;5;241m-\u001b[39m\u001b[38;5;241m55\u001b[39m, \u001b[38;5;124m'\u001b[39m\u001b[38;5;124m$Is*$\u001b[39m\u001b[38;5;124m'\u001b[39m, fontsize \u001b[38;5;241m=\u001b[39m \u001b[38;5;241m12\u001b[39m, color \u001b[38;5;241m=\u001b[39m \u001b[38;5;124m'\u001b[39m\u001b[38;5;124mblack\u001b[39m\u001b[38;5;124m'\u001b[39m)\n\u001b[1;32m----> 9\u001b[0m \u001b[43max\u001b[49m\u001b[38;5;241;43m.\u001b[39;49m\u001b[43mplot\u001b[49m\u001b[43m(\u001b[49m\u001b[43mrG\u001b[49m\u001b[43m,\u001b[49m\u001b[43m \u001b[49m\u001b[38;5;124;43m\"\u001b[39;49m\u001b[38;5;124;43mk-\u001b[39;49m\u001b[38;5;124;43m\"\u001b[39;49m\u001b[43m,\u001b[49m\u001b[43m \u001b[49m\u001b[43mcolor\u001b[49m\u001b[43m \u001b[49m\u001b[38;5;241;43m=\u001b[39;49m\u001b[43m \u001b[49m\u001b[38;5;124;43m'\u001b[39;49m\u001b[38;5;124;43mgreen\u001b[39;49m\u001b[38;5;124;43m'\u001b[39;49m\u001b[43m,\u001b[49m\u001b[43mLabel\u001b[49m\u001b[38;5;241;43m=\u001b[39;49m\u001b[38;5;124;43m\"\u001b[39;49m\u001b[38;5;124;43mIS\u001b[39;49m\u001b[38;5;124;43m\"\u001b[39;49m\u001b[43m)\u001b[49m\n\u001b[0;32m     10\u001b[0m ax\u001b[38;5;241m.\u001b[39mplot(rG1, \u001b[38;5;124m\"\u001b[39m\u001b[38;5;124mb-\u001b[39m\u001b[38;5;124m\"\u001b[39m, color \u001b[38;5;241m=\u001b[39m \u001b[38;5;124m'\u001b[39m\u001b[38;5;124mblue\u001b[39m\u001b[38;5;124m'\u001b[39m,linestyle\u001b[38;5;241m=\u001b[39m\u001b[38;5;124m'\u001b[39m\u001b[38;5;124m:\u001b[39m\u001b[38;5;124m'\u001b[39m,Label\u001b[38;5;241m=\u001b[39m\u001b[38;5;124m\"\u001b[39m\u001b[38;5;124mrG\u001b[39m\u001b[38;5;124m\"\u001b[39m)\n\u001b[0;32m     11\u001b[0m ax\u001b[38;5;241m.\u001b[39myaxis\u001b[38;5;241m.\u001b[39mset_major_locator(plt\u001b[38;5;241m.\u001b[39mNullLocator())   \u001b[38;5;66;03m# Hide ticks\u001b[39;00m\n",
      "File \u001b[1;32m~\\anaconda3\\lib\\site-packages\\matplotlib\\axes\\_axes.py:1632\u001b[0m, in \u001b[0;36mAxes.plot\u001b[1;34m(self, scalex, scaley, data, *args, **kwargs)\u001b[0m\n\u001b[0;32m   1390\u001b[0m \u001b[38;5;124;03m\"\"\"\u001b[39;00m\n\u001b[0;32m   1391\u001b[0m \u001b[38;5;124;03mPlot y versus x as lines and/or markers.\u001b[39;00m\n\u001b[0;32m   1392\u001b[0m \n\u001b[1;32m   (...)\u001b[0m\n\u001b[0;32m   1629\u001b[0m \u001b[38;5;124;03m(``'green'``) or hex strings (``'#008000'``).\u001b[39;00m\n\u001b[0;32m   1630\u001b[0m \u001b[38;5;124;03m\"\"\"\u001b[39;00m\n\u001b[0;32m   1631\u001b[0m kwargs \u001b[38;5;241m=\u001b[39m cbook\u001b[38;5;241m.\u001b[39mnormalize_kwargs(kwargs, mlines\u001b[38;5;241m.\u001b[39mLine2D)\n\u001b[1;32m-> 1632\u001b[0m lines \u001b[38;5;241m=\u001b[39m [\u001b[38;5;241m*\u001b[39m\u001b[38;5;28mself\u001b[39m\u001b[38;5;241m.\u001b[39m_get_lines(\u001b[38;5;241m*\u001b[39margs, data\u001b[38;5;241m=\u001b[39mdata, \u001b[38;5;241m*\u001b[39m\u001b[38;5;241m*\u001b[39mkwargs)]\n\u001b[0;32m   1633\u001b[0m \u001b[38;5;28;01mfor\u001b[39;00m line \u001b[38;5;129;01min\u001b[39;00m lines:\n\u001b[0;32m   1634\u001b[0m     \u001b[38;5;28mself\u001b[39m\u001b[38;5;241m.\u001b[39madd_line(line)\n",
      "File \u001b[1;32m~\\anaconda3\\lib\\site-packages\\matplotlib\\axes\\_base.py:312\u001b[0m, in \u001b[0;36m_process_plot_var_args.__call__\u001b[1;34m(self, data, *args, **kwargs)\u001b[0m\n\u001b[0;32m    310\u001b[0m     this \u001b[38;5;241m+\u001b[39m\u001b[38;5;241m=\u001b[39m args[\u001b[38;5;241m0\u001b[39m],\n\u001b[0;32m    311\u001b[0m     args \u001b[38;5;241m=\u001b[39m args[\u001b[38;5;241m1\u001b[39m:]\n\u001b[1;32m--> 312\u001b[0m \u001b[38;5;28;01myield from\u001b[39;00m \u001b[38;5;28;43mself\u001b[39;49m\u001b[38;5;241;43m.\u001b[39;49m\u001b[43m_plot_args\u001b[49m\u001b[43m(\u001b[49m\u001b[43mthis\u001b[49m\u001b[43m,\u001b[49m\u001b[43m \u001b[49m\u001b[43mkwargs\u001b[49m\u001b[43m)\u001b[49m\n",
      "File \u001b[1;32m~\\anaconda3\\lib\\site-packages\\matplotlib\\axes\\_base.py:538\u001b[0m, in \u001b[0;36m_process_plot_var_args._plot_args\u001b[1;34m(self, tup, kwargs, return_kwargs)\u001b[0m\n\u001b[0;32m    536\u001b[0m     \u001b[38;5;28;01mreturn\u001b[39;00m \u001b[38;5;28mlist\u001b[39m(result)\n\u001b[0;32m    537\u001b[0m \u001b[38;5;28;01melse\u001b[39;00m:\n\u001b[1;32m--> 538\u001b[0m     \u001b[38;5;28;01mreturn\u001b[39;00m [l[\u001b[38;5;241m0\u001b[39m] \u001b[38;5;28;01mfor\u001b[39;00m l \u001b[38;5;129;01min\u001b[39;00m result]\n",
      "File \u001b[1;32m~\\anaconda3\\lib\\site-packages\\matplotlib\\axes\\_base.py:538\u001b[0m, in \u001b[0;36m<listcomp>\u001b[1;34m(.0)\u001b[0m\n\u001b[0;32m    536\u001b[0m     \u001b[38;5;28;01mreturn\u001b[39;00m \u001b[38;5;28mlist\u001b[39m(result)\n\u001b[0;32m    537\u001b[0m \u001b[38;5;28;01melse\u001b[39;00m:\n\u001b[1;32m--> 538\u001b[0m     \u001b[38;5;28;01mreturn\u001b[39;00m [l[\u001b[38;5;241m0\u001b[39m] \u001b[38;5;28;01mfor\u001b[39;00m l \u001b[38;5;129;01min\u001b[39;00m result]\n",
      "File \u001b[1;32m~\\anaconda3\\lib\\site-packages\\matplotlib\\axes\\_base.py:531\u001b[0m, in \u001b[0;36m<genexpr>\u001b[1;34m(.0)\u001b[0m\n\u001b[0;32m    528\u001b[0m \u001b[38;5;28;01melse\u001b[39;00m:\n\u001b[0;32m    529\u001b[0m     labels \u001b[38;5;241m=\u001b[39m [label] \u001b[38;5;241m*\u001b[39m n_datasets\n\u001b[1;32m--> 531\u001b[0m result \u001b[38;5;241m=\u001b[39m (\u001b[43mmake_artist\u001b[49m\u001b[43m(\u001b[49m\u001b[43mx\u001b[49m\u001b[43m[\u001b[49m\u001b[43m:\u001b[49m\u001b[43m,\u001b[49m\u001b[43m \u001b[49m\u001b[43mj\u001b[49m\u001b[43m \u001b[49m\u001b[38;5;241;43m%\u001b[39;49m\u001b[43m \u001b[49m\u001b[43mncx\u001b[49m\u001b[43m]\u001b[49m\u001b[43m,\u001b[49m\u001b[43m \u001b[49m\u001b[43my\u001b[49m\u001b[43m[\u001b[49m\u001b[43m:\u001b[49m\u001b[43m,\u001b[49m\u001b[43m \u001b[49m\u001b[43mj\u001b[49m\u001b[43m \u001b[49m\u001b[38;5;241;43m%\u001b[39;49m\u001b[43m \u001b[49m\u001b[43mncy\u001b[49m\u001b[43m]\u001b[49m\u001b[43m,\u001b[49m\u001b[43m \u001b[49m\u001b[43mkw\u001b[49m\u001b[43m,\u001b[49m\n\u001b[0;32m    532\u001b[0m \u001b[43m                      \u001b[49m\u001b[43m{\u001b[49m\u001b[38;5;241;43m*\u001b[39;49m\u001b[38;5;241;43m*\u001b[39;49m\u001b[43mkwargs\u001b[49m\u001b[43m,\u001b[49m\u001b[43m \u001b[49m\u001b[38;5;124;43m'\u001b[39;49m\u001b[38;5;124;43mlabel\u001b[39;49m\u001b[38;5;124;43m'\u001b[39;49m\u001b[43m:\u001b[49m\u001b[43m \u001b[49m\u001b[43mlabel\u001b[49m\u001b[43m}\u001b[49m\u001b[43m)\u001b[49m\n\u001b[0;32m    533\u001b[0m           \u001b[38;5;28;01mfor\u001b[39;00m j, label \u001b[38;5;129;01min\u001b[39;00m \u001b[38;5;28menumerate\u001b[39m(labels))\n\u001b[0;32m    535\u001b[0m \u001b[38;5;28;01mif\u001b[39;00m return_kwargs:\n\u001b[0;32m    536\u001b[0m     \u001b[38;5;28;01mreturn\u001b[39;00m \u001b[38;5;28mlist\u001b[39m(result)\n",
      "File \u001b[1;32m~\\anaconda3\\lib\\site-packages\\matplotlib\\axes\\_base.py:351\u001b[0m, in \u001b[0;36m_process_plot_var_args._makeline\u001b[1;34m(self, x, y, kw, kwargs)\u001b[0m\n\u001b[0;32m    349\u001b[0m default_dict \u001b[38;5;241m=\u001b[39m \u001b[38;5;28mself\u001b[39m\u001b[38;5;241m.\u001b[39m_getdefaults(\u001b[38;5;28mset\u001b[39m(), kw)\n\u001b[0;32m    350\u001b[0m \u001b[38;5;28mself\u001b[39m\u001b[38;5;241m.\u001b[39m_setdefaults(default_dict, kw)\n\u001b[1;32m--> 351\u001b[0m seg \u001b[38;5;241m=\u001b[39m mlines\u001b[38;5;241m.\u001b[39mLine2D(x, y, \u001b[38;5;241m*\u001b[39m\u001b[38;5;241m*\u001b[39mkw)\n\u001b[0;32m    352\u001b[0m \u001b[38;5;28;01mreturn\u001b[39;00m seg, kw\n",
      "File \u001b[1;32m~\\anaconda3\\lib\\site-packages\\matplotlib\\lines.py:393\u001b[0m, in \u001b[0;36mLine2D.__init__\u001b[1;34m(self, xdata, ydata, linewidth, linestyle, color, marker, markersize, markeredgewidth, markeredgecolor, markerfacecolor, markerfacecoloralt, fillstyle, antialiased, dash_capstyle, solid_capstyle, dash_joinstyle, solid_joinstyle, pickradius, drawstyle, markevery, **kwargs)\u001b[0m\n\u001b[0;32m    389\u001b[0m \u001b[38;5;28mself\u001b[39m\u001b[38;5;241m.\u001b[39mset_markeredgewidth(markeredgewidth)\n\u001b[0;32m    391\u001b[0m \u001b[38;5;66;03m# update kwargs before updating data to give the caller a\u001b[39;00m\n\u001b[0;32m    392\u001b[0m \u001b[38;5;66;03m# chance to init axes (and hence unit support)\u001b[39;00m\n\u001b[1;32m--> 393\u001b[0m \u001b[38;5;28;43mself\u001b[39;49m\u001b[38;5;241;43m.\u001b[39;49m\u001b[43mupdate\u001b[49m\u001b[43m(\u001b[49m\u001b[43mkwargs\u001b[49m\u001b[43m)\u001b[49m\n\u001b[0;32m    394\u001b[0m \u001b[38;5;28mself\u001b[39m\u001b[38;5;241m.\u001b[39mpickradius \u001b[38;5;241m=\u001b[39m pickradius\n\u001b[0;32m    395\u001b[0m \u001b[38;5;28mself\u001b[39m\u001b[38;5;241m.\u001b[39mind_offset \u001b[38;5;241m=\u001b[39m \u001b[38;5;241m0\u001b[39m\n",
      "File \u001b[1;32m~\\anaconda3\\lib\\site-packages\\matplotlib\\artist.py:1064\u001b[0m, in \u001b[0;36mArtist.update\u001b[1;34m(self, props)\u001b[0m\n\u001b[0;32m   1062\u001b[0m             func \u001b[38;5;241m=\u001b[39m \u001b[38;5;28mgetattr\u001b[39m(\u001b[38;5;28mself\u001b[39m, \u001b[38;5;124mf\u001b[39m\u001b[38;5;124m\"\u001b[39m\u001b[38;5;124mset_\u001b[39m\u001b[38;5;132;01m{\u001b[39;00mk\u001b[38;5;132;01m}\u001b[39;00m\u001b[38;5;124m\"\u001b[39m, \u001b[38;5;28;01mNone\u001b[39;00m)\n\u001b[0;32m   1063\u001b[0m             \u001b[38;5;28;01mif\u001b[39;00m \u001b[38;5;129;01mnot\u001b[39;00m callable(func):\n\u001b[1;32m-> 1064\u001b[0m                 \u001b[38;5;28;01mraise\u001b[39;00m \u001b[38;5;167;01mAttributeError\u001b[39;00m(\u001b[38;5;124mf\u001b[39m\u001b[38;5;124m\"\u001b[39m\u001b[38;5;132;01m{\u001b[39;00m\u001b[38;5;28mtype\u001b[39m(\u001b[38;5;28mself\u001b[39m)\u001b[38;5;241m.\u001b[39m\u001b[38;5;18m__name__\u001b[39m\u001b[38;5;132;01m!r}\u001b[39;00m\u001b[38;5;124m object \u001b[39m\u001b[38;5;124m\"\u001b[39m\n\u001b[0;32m   1065\u001b[0m                                      \u001b[38;5;124mf\u001b[39m\u001b[38;5;124m\"\u001b[39m\u001b[38;5;124mhas no property \u001b[39m\u001b[38;5;132;01m{\u001b[39;00mk\u001b[38;5;132;01m!r}\u001b[39;00m\u001b[38;5;124m\"\u001b[39m)\n\u001b[0;32m   1066\u001b[0m             ret\u001b[38;5;241m.\u001b[39mappend(func(v))\n\u001b[0;32m   1067\u001b[0m \u001b[38;5;28;01mif\u001b[39;00m ret:\n",
      "\u001b[1;31mAttributeError\u001b[0m: 'Line2D' object has no property 'Label'"
     ]
    },
    {
     "data": {
      "image/png": "[encoded data removed]",
      "text/plain": [
       "<Figure size 720x576 with 1 Axes>"
      ]
     },
     "metadata": {
      "needs_background": "light"
     },
     "output_type": "display_data"
    }
   ],
   "source": [
    "\n",
    "fig, ax = plt.subplots(figsize=(10, 8))\n",
    "ax.set(title=\"EFECTOS DEL AUMENTO DEL GASTO DE GOBIERNO\", xlabel=r'Y', ylabel=r'r')\n",
    "\n",
    "ax.plot(rG, label = \"rG\", color = \"C0\") \n",
    "ax.plot(rG1, label = \"rG1\", linestyle=':', color = \"C3\") \n",
    "ax.text(100, -20, '$Is$', fontsize = 12, color = 'black')\n",
    "ax.text(100, -55, '$Is*$', fontsize = 12, color = 'black')\n",
    "\n",
    "ax.plot(rG, \"k-\", color = 'green',Label=\"IS\")\n",
    "ax.plot(rG1, \"b-\", color = 'blue',linestyle=':',Label=\"rG\")\n",
    "ax.yaxis.set_major_locator(plt.NullLocator())   # Hide ticks\n",
    "ax.xaxis.set_major_locator(plt.NullLocator())   # Hide ticks\n",
    "       \n",
    "plt.legend()        \n",
    "plt.show()"
   ]
  },
  {
   "cell_type": "markdown",
   "id": "b0555889",
   "metadata": {},
   "source": [
    "$$ \tG↓→DA↓→DA<Y→Y↓ $$"
   ]
  },
  {
   "cell_type": "markdown",
   "id": "f6fa35aa",
   "metadata": {},
   "source": [
    "* **Analice una Política Fiscal Expansiva con una caída de la Tasa de Impuestos (△t<0). El análisis debe ser intuitivo y gráfico.**\n"
   ]
  },
  {
   "cell_type": "code",
   "execution_count": null,
   "id": "c97a55b2",
   "metadata": {},
   "outputs": [],
   "source": [
    "# Gráfica variacion en t\n",
    "#primera IS\n",
    "Y_size = 100 \n",
    "\n",
    "C0 = 19\n",
    "I0 = 23\n",
    "G0 = 40\n",
    "X0 = 2.25\n",
    "h = 0.9\n",
    "b = 0.681\n",
    "m = 0.6\n",
    "t = 0.9\n",
    "\n",
    "Y = np.arange(Y_size)\n",
    "\n",
    "# Ecuación de la curva del ingreso de equilibrio\n",
    "\n",
    "def r_is(C0, I0, G0, X0, h, r, b, m, t, Y):\n",
    "    r_is= ((C0+I0+G0+X0)/h-Y*((1-(1-t)*(b-m))/h))\n",
    "    return r_is\n",
    "\n",
    "rG= r_is(C0, I0, G0, X0, h, r, b, m, t, Y)"
   ]
  },
  {
   "cell_type": "code",
   "execution_count": null,
   "id": "e7fb5f38",
   "metadata": {},
   "outputs": [],
   "source": [
    "# Grafica variacion en t\n",
    "#IS variada\n",
    "t=0.05\n",
    "\n",
    "def r_is1(C0, I0, G0, X0, h, r, b, m, t, Y):\n",
    "    r_is1= ((C0+I0+G0+X0)/h-Y*((1-(1-t)*(b-m))/h))\n",
    "    return r_is1\n",
    "\n",
    "rG1= r_is1(C0, I0, G0, X0, h, r, b, m, t, Y)"
   ]
  },
  {
   "cell_type": "code",
   "execution_count": null,
   "id": "e12927e3",
   "metadata": {},
   "outputs": [],
   "source": [
    "\n",
    "fig, ax = plt.subplots(figsize=(10, 8))\n",
    "ax.set(title=\"EFECTOS DEL AUMENTO DEL GASTO DE GOBIERNO\", xlabel=r'Y', ylabel=r'r')\n",
    "\n",
    "ax.plot(rG, label = \"rG\", color = \"C0\") \n",
    "ax.plot(rG1, label = \"rG1\", linestyle=':', color = \"C3\") \n",
    "ax.text(100, -20, '$Is$', fontsize = 12, color = 'black')\n",
    "ax.text(100, -10, '$Is*$', fontsize = 12, color = 'black')\n",
    "\n",
    "ax.plot(rG, \"k-\", color = 'green',Label=\"IS\")\n",
    "ax.plot(rG1, \"b-\", color = 'blue',linestyle=':',Label=\"rG\")\n",
    "ax.yaxis.set_major_locator(plt.NullLocator())   # Hide ticks\n",
    "ax.xaxis.set_major_locator(plt.NullLocator())   # Hide ticks\n",
    "       \n",
    "plt.legend()        \n",
    "plt.show()"
   ]
  },
  {
   "cell_type": "markdown",
   "id": "c079cc8e",
   "metadata": {},
   "source": [
    "$$ t↓→(1-t)*Y↑→Y^d↑→C↑→DA↑→DA>Y→Y↑ $$"
   ]
  },
  {
   "cell_type": "markdown",
   "id": "a0ae50ca",
   "metadata": {},
   "source": [
    "* **Analice una caída de la Propensión Marginal a Consumir (△b<0). El análisis debe ser intuitivo y gráfico.**"
   ]
  },
  {
   "cell_type": "code",
   "execution_count": null,
   "id": "186ccd57",
   "metadata": {},
   "outputs": [],
   "source": [
    "# Grafica variacion en b\n",
    "#primera IS\n",
    "Y_size = 100 \n",
    "\n",
    "C0 = 19\n",
    "I0 = 23\n",
    "G0 = 40\n",
    "X0 = 2.25\n",
    "h = 0.9\n",
    "b = 0.9\n",
    "m = 0.6\n",
    "t = 0.9\n",
    "\n",
    "Y = np.arange(Y_size)\n",
    "\n",
    "# Ecuación de la curva del ingreso de equilibrio\n",
    "\n",
    "def r_is(C0, I0, G0, X0, h, r, b, m, t, Y):\n",
    "    r_is= ((C0+I0+G0+X0)/h-Y*((1-(1-t)*(b-m))/h))\n",
    "    return r_is\n",
    "\n",
    "rG= r_is(C0, I0, G0, X0, h, r, b, m, t, Y)"
   ]
  },
  {
   "cell_type": "code",
   "execution_count": null,
   "id": "34f5abb6",
   "metadata": {},
   "outputs": [],
   "source": [
    "#Grafica variacion en b\n",
    "#IS variada\n",
    "b=0.2\n",
    "\n",
    "def r_is1(C0, I0, G0, X0, h, r, b, m, t, Y):\n",
    "    r_is1= ((C0+I0+G0+X0)/h-Y*((1-(1-t)*(b-m))/h))\n",
    "    return r_is1\n",
    "\n",
    "rG1= r_is1(C0, I0, G0, X0, h, r, b, m, t, Y)"
   ]
  },
  {
   "cell_type": "code",
   "execution_count": 14,
   "id": "d79e22a3",
   "metadata": {},
   "outputs": [
    {
     "name": "stderr",
     "output_type": "stream",
     "text": [
      "C:\\Users\\USUARIO\\AppData\\Local\\Temp\\ipykernel_4356\\1460732314.py:9: UserWarning: color is redundantly defined by the 'color' keyword argument and the fmt string \"k-\" (-> color='k'). The keyword argument will take precedence.\n",
      "  ax.plot(rG, \"k-\", color = 'green',Label=\"IS\")\n"
     ]
    },
    {
     "ename": "AttributeError",
     "evalue": "'Line2D' object has no property 'Label'",
     "output_type": "error",
     "traceback": [
      "\u001b[1;31m---------------------------------------------------------------------------\u001b[0m",
      "\u001b[1;31mAttributeError\u001b[0m                            Traceback (most recent call last)",
      "Input \u001b[1;32mIn [14]\u001b[0m, in \u001b[0;36m<cell line: 9>\u001b[1;34m()\u001b[0m\n\u001b[0;32m      6\u001b[0m ax\u001b[38;5;241m.\u001b[39mtext(\u001b[38;5;241m100\u001b[39m, \u001b[38;5;241m-\u001b[39m\u001b[38;5;241m7\u001b[39m, \u001b[38;5;124m'\u001b[39m\u001b[38;5;124m$Is$\u001b[39m\u001b[38;5;124m'\u001b[39m, fontsize \u001b[38;5;241m=\u001b[39m \u001b[38;5;241m12\u001b[39m, color \u001b[38;5;241m=\u001b[39m \u001b[38;5;124m'\u001b[39m\u001b[38;5;124mblack\u001b[39m\u001b[38;5;124m'\u001b[39m)\n\u001b[0;32m      7\u001b[0m ax\u001b[38;5;241m.\u001b[39mtext(\u001b[38;5;241m100\u001b[39m, \u001b[38;5;241m-\u001b[39m\u001b[38;5;241m20\u001b[39m, \u001b[38;5;124m'\u001b[39m\u001b[38;5;124m$Is*$\u001b[39m\u001b[38;5;124m'\u001b[39m, fontsize \u001b[38;5;241m=\u001b[39m \u001b[38;5;241m12\u001b[39m, color \u001b[38;5;241m=\u001b[39m \u001b[38;5;124m'\u001b[39m\u001b[38;5;124mblack\u001b[39m\u001b[38;5;124m'\u001b[39m)\n\u001b[1;32m----> 9\u001b[0m \u001b[43max\u001b[49m\u001b[38;5;241;43m.\u001b[39;49m\u001b[43mplot\u001b[49m\u001b[43m(\u001b[49m\u001b[43mrG\u001b[49m\u001b[43m,\u001b[49m\u001b[43m \u001b[49m\u001b[38;5;124;43m\"\u001b[39;49m\u001b[38;5;124;43mk-\u001b[39;49m\u001b[38;5;124;43m\"\u001b[39;49m\u001b[43m,\u001b[49m\u001b[43m \u001b[49m\u001b[43mcolor\u001b[49m\u001b[43m \u001b[49m\u001b[38;5;241;43m=\u001b[39;49m\u001b[43m \u001b[49m\u001b[38;5;124;43m'\u001b[39;49m\u001b[38;5;124;43mgreen\u001b[39;49m\u001b[38;5;124;43m'\u001b[39;49m\u001b[43m,\u001b[49m\u001b[43mLabel\u001b[49m\u001b[38;5;241;43m=\u001b[39;49m\u001b[38;5;124;43m\"\u001b[39;49m\u001b[38;5;124;43mIS\u001b[39;49m\u001b[38;5;124;43m\"\u001b[39;49m\u001b[43m)\u001b[49m\n\u001b[0;32m     10\u001b[0m ax\u001b[38;5;241m.\u001b[39mplot(rG1, \u001b[38;5;124m\"\u001b[39m\u001b[38;5;124mb-\u001b[39m\u001b[38;5;124m\"\u001b[39m, color \u001b[38;5;241m=\u001b[39m \u001b[38;5;124m'\u001b[39m\u001b[38;5;124mblue\u001b[39m\u001b[38;5;124m'\u001b[39m,linestyle\u001b[38;5;241m=\u001b[39m\u001b[38;5;124m'\u001b[39m\u001b[38;5;124m:\u001b[39m\u001b[38;5;124m'\u001b[39m,Label\u001b[38;5;241m=\u001b[39m\u001b[38;5;124m\"\u001b[39m\u001b[38;5;124mrG\u001b[39m\u001b[38;5;124m\"\u001b[39m)\n\u001b[0;32m     11\u001b[0m ax\u001b[38;5;241m.\u001b[39myaxis\u001b[38;5;241m.\u001b[39mset_major_locator(plt\u001b[38;5;241m.\u001b[39mNullLocator())   \u001b[38;5;66;03m# Hide ticks\u001b[39;00m\n",
      "File \u001b[1;32m~\\anaconda3\\lib\\site-packages\\matplotlib\\axes\\_axes.py:1632\u001b[0m, in \u001b[0;36mAxes.plot\u001b[1;34m(self, scalex, scaley, data, *args, **kwargs)\u001b[0m\n\u001b[0;32m   1390\u001b[0m \u001b[38;5;124;03m\"\"\"\u001b[39;00m\n\u001b[0;32m   1391\u001b[0m \u001b[38;5;124;03mPlot y versus x as lines and/or markers.\u001b[39;00m\n\u001b[0;32m   1392\u001b[0m \n\u001b[1;32m   (...)\u001b[0m\n\u001b[0;32m   1629\u001b[0m \u001b[38;5;124;03m(``'green'``) or hex strings (``'#008000'``).\u001b[39;00m\n\u001b[0;32m   1630\u001b[0m \u001b[38;5;124;03m\"\"\"\u001b[39;00m\n\u001b[0;32m   1631\u001b[0m kwargs \u001b[38;5;241m=\u001b[39m cbook\u001b[38;5;241m.\u001b[39mnormalize_kwargs(kwargs, mlines\u001b[38;5;241m.\u001b[39mLine2D)\n\u001b[1;32m-> 1632\u001b[0m lines \u001b[38;5;241m=\u001b[39m [\u001b[38;5;241m*\u001b[39m\u001b[38;5;28mself\u001b[39m\u001b[38;5;241m.\u001b[39m_get_lines(\u001b[38;5;241m*\u001b[39margs, data\u001b[38;5;241m=\u001b[39mdata, \u001b[38;5;241m*\u001b[39m\u001b[38;5;241m*\u001b[39mkwargs)]\n\u001b[0;32m   1633\u001b[0m \u001b[38;5;28;01mfor\u001b[39;00m line \u001b[38;5;129;01min\u001b[39;00m lines:\n\u001b[0;32m   1634\u001b[0m     \u001b[38;5;28mself\u001b[39m\u001b[38;5;241m.\u001b[39madd_line(line)\n",
      "File \u001b[1;32m~\\anaconda3\\lib\\site-packages\\matplotlib\\axes\\_base.py:312\u001b[0m, in \u001b[0;36m_process_plot_var_args.__call__\u001b[1;34m(self, data, *args, **kwargs)\u001b[0m\n\u001b[0;32m    310\u001b[0m     this \u001b[38;5;241m+\u001b[39m\u001b[38;5;241m=\u001b[39m args[\u001b[38;5;241m0\u001b[39m],\n\u001b[0;32m    311\u001b[0m     args \u001b[38;5;241m=\u001b[39m args[\u001b[38;5;241m1\u001b[39m:]\n\u001b[1;32m--> 312\u001b[0m \u001b[38;5;28;01myield from\u001b[39;00m \u001b[38;5;28;43mself\u001b[39;49m\u001b[38;5;241;43m.\u001b[39;49m\u001b[43m_plot_args\u001b[49m\u001b[43m(\u001b[49m\u001b[43mthis\u001b[49m\u001b[43m,\u001b[49m\u001b[43m \u001b[49m\u001b[43mkwargs\u001b[49m\u001b[43m)\u001b[49m\n",
      "File \u001b[1;32m~\\anaconda3\\lib\\site-packages\\matplotlib\\axes\\_base.py:538\u001b[0m, in \u001b[0;36m_process_plot_var_args._plot_args\u001b[1;34m(self, tup, kwargs, return_kwargs)\u001b[0m\n\u001b[0;32m    536\u001b[0m     \u001b[38;5;28;01mreturn\u001b[39;00m \u001b[38;5;28mlist\u001b[39m(result)\n\u001b[0;32m    537\u001b[0m \u001b[38;5;28;01melse\u001b[39;00m:\n\u001b[1;32m--> 538\u001b[0m     \u001b[38;5;28;01mreturn\u001b[39;00m [l[\u001b[38;5;241m0\u001b[39m] \u001b[38;5;28;01mfor\u001b[39;00m l \u001b[38;5;129;01min\u001b[39;00m result]\n",
      "File \u001b[1;32m~\\anaconda3\\lib\\site-packages\\matplotlib\\axes\\_base.py:538\u001b[0m, in \u001b[0;36m<listcomp>\u001b[1;34m(.0)\u001b[0m\n\u001b[0;32m    536\u001b[0m     \u001b[38;5;28;01mreturn\u001b[39;00m \u001b[38;5;28mlist\u001b[39m(result)\n\u001b[0;32m    537\u001b[0m \u001b[38;5;28;01melse\u001b[39;00m:\n\u001b[1;32m--> 538\u001b[0m     \u001b[38;5;28;01mreturn\u001b[39;00m [l[\u001b[38;5;241m0\u001b[39m] \u001b[38;5;28;01mfor\u001b[39;00m l \u001b[38;5;129;01min\u001b[39;00m result]\n",
      "File \u001b[1;32m~\\anaconda3\\lib\\site-packages\\matplotlib\\axes\\_base.py:531\u001b[0m, in \u001b[0;36m<genexpr>\u001b[1;34m(.0)\u001b[0m\n\u001b[0;32m    528\u001b[0m \u001b[38;5;28;01melse\u001b[39;00m:\n\u001b[0;32m    529\u001b[0m     labels \u001b[38;5;241m=\u001b[39m [label] \u001b[38;5;241m*\u001b[39m n_datasets\n\u001b[1;32m--> 531\u001b[0m result \u001b[38;5;241m=\u001b[39m (\u001b[43mmake_artist\u001b[49m\u001b[43m(\u001b[49m\u001b[43mx\u001b[49m\u001b[43m[\u001b[49m\u001b[43m:\u001b[49m\u001b[43m,\u001b[49m\u001b[43m \u001b[49m\u001b[43mj\u001b[49m\u001b[43m \u001b[49m\u001b[38;5;241;43m%\u001b[39;49m\u001b[43m \u001b[49m\u001b[43mncx\u001b[49m\u001b[43m]\u001b[49m\u001b[43m,\u001b[49m\u001b[43m \u001b[49m\u001b[43my\u001b[49m\u001b[43m[\u001b[49m\u001b[43m:\u001b[49m\u001b[43m,\u001b[49m\u001b[43m \u001b[49m\u001b[43mj\u001b[49m\u001b[43m \u001b[49m\u001b[38;5;241;43m%\u001b[39;49m\u001b[43m \u001b[49m\u001b[43mncy\u001b[49m\u001b[43m]\u001b[49m\u001b[43m,\u001b[49m\u001b[43m \u001b[49m\u001b[43mkw\u001b[49m\u001b[43m,\u001b[49m\n\u001b[0;32m    532\u001b[0m \u001b[43m                      \u001b[49m\u001b[43m{\u001b[49m\u001b[38;5;241;43m*\u001b[39;49m\u001b[38;5;241;43m*\u001b[39;49m\u001b[43mkwargs\u001b[49m\u001b[43m,\u001b[49m\u001b[43m \u001b[49m\u001b[38;5;124;43m'\u001b[39;49m\u001b[38;5;124;43mlabel\u001b[39;49m\u001b[38;5;124;43m'\u001b[39;49m\u001b[43m:\u001b[49m\u001b[43m \u001b[49m\u001b[43mlabel\u001b[49m\u001b[43m}\u001b[49m\u001b[43m)\u001b[49m\n\u001b[0;32m    533\u001b[0m           \u001b[38;5;28;01mfor\u001b[39;00m j, label \u001b[38;5;129;01min\u001b[39;00m \u001b[38;5;28menumerate\u001b[39m(labels))\n\u001b[0;32m    535\u001b[0m \u001b[38;5;28;01mif\u001b[39;00m return_kwargs:\n\u001b[0;32m    536\u001b[0m     \u001b[38;5;28;01mreturn\u001b[39;00m \u001b[38;5;28mlist\u001b[39m(result)\n",
      "File \u001b[1;32m~\\anaconda3\\lib\\site-packages\\matplotlib\\axes\\_base.py:351\u001b[0m, in \u001b[0;36m_process_plot_var_args._makeline\u001b[1;34m(self, x, y, kw, kwargs)\u001b[0m\n\u001b[0;32m    349\u001b[0m default_dict \u001b[38;5;241m=\u001b[39m \u001b[38;5;28mself\u001b[39m\u001b[38;5;241m.\u001b[39m_getdefaults(\u001b[38;5;28mset\u001b[39m(), kw)\n\u001b[0;32m    350\u001b[0m \u001b[38;5;28mself\u001b[39m\u001b[38;5;241m.\u001b[39m_setdefaults(default_dict, kw)\n\u001b[1;32m--> 351\u001b[0m seg \u001b[38;5;241m=\u001b[39m mlines\u001b[38;5;241m.\u001b[39mLine2D(x, y, \u001b[38;5;241m*\u001b[39m\u001b[38;5;241m*\u001b[39mkw)\n\u001b[0;32m    352\u001b[0m \u001b[38;5;28;01mreturn\u001b[39;00m seg, kw\n",
      "File \u001b[1;32m~\\anaconda3\\lib\\site-packages\\matplotlib\\lines.py:393\u001b[0m, in \u001b[0;36mLine2D.__init__\u001b[1;34m(self, xdata, ydata, linewidth, linestyle, color, marker, markersize, markeredgewidth, markeredgecolor, markerfacecolor, markerfacecoloralt, fillstyle, antialiased, dash_capstyle, solid_capstyle, dash_joinstyle, solid_joinstyle, pickradius, drawstyle, markevery, **kwargs)\u001b[0m\n\u001b[0;32m    389\u001b[0m \u001b[38;5;28mself\u001b[39m\u001b[38;5;241m.\u001b[39mset_markeredgewidth(markeredgewidth)\n\u001b[0;32m    391\u001b[0m \u001b[38;5;66;03m# update kwargs before updating data to give the caller a\u001b[39;00m\n\u001b[0;32m    392\u001b[0m \u001b[38;5;66;03m# chance to init axes (and hence unit support)\u001b[39;00m\n\u001b[1;32m--> 393\u001b[0m \u001b[38;5;28;43mself\u001b[39;49m\u001b[38;5;241;43m.\u001b[39;49m\u001b[43mupdate\u001b[49m\u001b[43m(\u001b[49m\u001b[43mkwargs\u001b[49m\u001b[43m)\u001b[49m\n\u001b[0;32m    394\u001b[0m \u001b[38;5;28mself\u001b[39m\u001b[38;5;241m.\u001b[39mpickradius \u001b[38;5;241m=\u001b[39m pickradius\n\u001b[0;32m    395\u001b[0m \u001b[38;5;28mself\u001b[39m\u001b[38;5;241m.\u001b[39mind_offset \u001b[38;5;241m=\u001b[39m \u001b[38;5;241m0\u001b[39m\n",
      "File \u001b[1;32m~\\anaconda3\\lib\\site-packages\\matplotlib\\artist.py:1064\u001b[0m, in \u001b[0;36mArtist.update\u001b[1;34m(self, props)\u001b[0m\n\u001b[0;32m   1062\u001b[0m             func \u001b[38;5;241m=\u001b[39m \u001b[38;5;28mgetattr\u001b[39m(\u001b[38;5;28mself\u001b[39m, \u001b[38;5;124mf\u001b[39m\u001b[38;5;124m\"\u001b[39m\u001b[38;5;124mset_\u001b[39m\u001b[38;5;132;01m{\u001b[39;00mk\u001b[38;5;132;01m}\u001b[39;00m\u001b[38;5;124m\"\u001b[39m, \u001b[38;5;28;01mNone\u001b[39;00m)\n\u001b[0;32m   1063\u001b[0m             \u001b[38;5;28;01mif\u001b[39;00m \u001b[38;5;129;01mnot\u001b[39;00m callable(func):\n\u001b[1;32m-> 1064\u001b[0m                 \u001b[38;5;28;01mraise\u001b[39;00m \u001b[38;5;167;01mAttributeError\u001b[39;00m(\u001b[38;5;124mf\u001b[39m\u001b[38;5;124m\"\u001b[39m\u001b[38;5;132;01m{\u001b[39;00m\u001b[38;5;28mtype\u001b[39m(\u001b[38;5;28mself\u001b[39m)\u001b[38;5;241m.\u001b[39m\u001b[38;5;18m__name__\u001b[39m\u001b[38;5;132;01m!r}\u001b[39;00m\u001b[38;5;124m object \u001b[39m\u001b[38;5;124m\"\u001b[39m\n\u001b[0;32m   1065\u001b[0m                                      \u001b[38;5;124mf\u001b[39m\u001b[38;5;124m\"\u001b[39m\u001b[38;5;124mhas no property \u001b[39m\u001b[38;5;132;01m{\u001b[39;00mk\u001b[38;5;132;01m!r}\u001b[39;00m\u001b[38;5;124m\"\u001b[39m)\n\u001b[0;32m   1066\u001b[0m             ret\u001b[38;5;241m.\u001b[39mappend(func(v))\n\u001b[0;32m   1067\u001b[0m \u001b[38;5;28;01mif\u001b[39;00m ret:\n",
      "\u001b[1;31mAttributeError\u001b[0m: 'Line2D' object has no property 'Label'"
     ]
    },
    {
     "data": {
      "image/png": "[encoded data removed]",
      "text/plain": [
       "<Figure size 720x576 with 1 Axes>"
      ]
     },
     "metadata": {
      "needs_background": "light"
     },
     "output_type": "display_data"
    }
   ],
   "source": [
    "\n",
    "fig, ax = plt.subplots(figsize=(10, 8))\n",
    "ax.set(title=\"EFECTOS DEL AUMENTO DEL GASTO DE GOBIERNO\", xlabel=r'Y', ylabel=r'r')\n",
    "\n",
    "ax.plot(rG, label = \"rG\", color = \"C0\") \n",
    "ax.plot(rG1, label = \"rG1\", linestyle=':', color = \"C3\") \n",
    "ax.text(100, -7, '$Is$', fontsize = 12, color = 'black')\n",
    "ax.text(100, -20, '$Is*$', fontsize = 12, color = 'black')\n",
    "\n",
    "ax.plot(rG, \"k-\", color = 'green',Label=\"IS\")\n",
    "ax.plot(rG1, \"b-\", color = 'blue',linestyle=':',Label=\"rG\")\n",
    "ax.yaxis.set_major_locator(plt.NullLocator())   # Hide ticks\n",
    "ax.xaxis.set_major_locator(plt.NullLocator())   # Hide ticks\n",
    "       \n",
    "plt.legend()        \n",
    "plt.show()"
   ]
  },
  {
   "cell_type": "markdown",
   "id": "e4441f31",
   "metadata": {},
   "source": [
    "$$ \tb↓→C↓→DA↓→DA<Y→Y↓ $$"
   ]
  }
 ],
 "metadata": {
  "kernelspec": {
   "display_name": "Python 3 (ipykernel)",
   "language": "python",
   "name": "python3"
  },
  "language_info": {
   "codemirror_mode": {
    "name": "ipython",
    "version": 3
   },
   "file_extension": ".py",
   "mimetype": "text/x-python",
   "name": "python",
   "nbconvert_exporter": "python",
   "pygments_lexer": "ipython3",
   "version": "3.9.12"
  }
 },
 "nbformat": 4,
 "nbformat_minor": 5
}
