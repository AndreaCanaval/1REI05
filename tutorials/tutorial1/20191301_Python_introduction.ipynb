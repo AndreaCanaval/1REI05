{
 "cells": [
  {
   "cell_type": "markdown",
   "id": "f7ee9265",
   "metadata": {},
   "source": [
    "DESARROLLO CLASE PRÁCTICA 1"
   ]
  },
  {
   "cell_type": "markdown",
   "id": "74a747cf",
   "metadata": {},
   "source": [
    "Primer paso: instalar las librerías. Ya se hizo, pero se eliminaron para evitar confusiones."
   ]
  },
  {
   "cell_type": "code",
   "execution_count": 2,
   "id": "eb83775d",
   "metadata": {},
   "outputs": [],
   "source": [
    "# librerías para utilizar bases de datos y arrays\n",
    "import numpy as np\n",
    "import pandas as pd\n",
    "\n",
    "# librerías para gráficos\n",
    "import matplotlib.pyplot as plt\n",
    "\n",
    "# librerías para graficar relaciones causales\n",
    "from causalgraphicalmodels import CausalGraphicalModel"
   ]
  },
  {
   "cell_type": "markdown",
   "id": "9001391b",
   "metadata": {},
   "source": [
    "Gráficos causales:"
   ]
  },
  {
   "cell_type": "code",
   "execution_count": 1,
   "id": "b7b3cf84",
   "metadata": {},
   "outputs": [
    {
     "ename": "NameError",
     "evalue": "name 'CausalGraphicalModel' is not defined",
     "output_type": "error",
     "traceback": [
      "\u001b[1;31m---------------------------------------------------------------------------\u001b[0m",
      "\u001b[1;31mNameError\u001b[0m                                 Traceback (most recent call last)",
      "Input \u001b[1;32mIn [1]\u001b[0m, in \u001b[0;36m<cell line: 1>\u001b[1;34m()\u001b[0m\n\u001b[1;32m----> 1\u001b[0m graph \u001b[38;5;241m=\u001b[39m \u001b[43mCausalGraphicalModel\u001b[49m(nodes\u001b[38;5;241m=\u001b[39m[\u001b[38;5;124m\"\u001b[39m\u001b[38;5;124mGo ↓\u001b[39m\u001b[38;5;124m\"\u001b[39m,\u001b[38;5;124m\"\u001b[39m\u001b[38;5;124mDA ↓\u001b[39m\u001b[38;5;124m\"\u001b[39m,\u001b[38;5;124m\"\u001b[39m\u001b[38;5;124mY ↓\u001b[39m\u001b[38;5;124m\"\u001b[39m], \u001b[38;5;66;03m#variables\u001b[39;00m\n\u001b[0;32m      2\u001b[0m                              edges\u001b[38;5;241m=\u001b[39m[(\u001b[38;5;124m\"\u001b[39m\u001b[38;5;124mGo ↓\u001b[39m\u001b[38;5;124m\"\u001b[39m,\u001b[38;5;124m\"\u001b[39m\u001b[38;5;124mDA ↓\u001b[39m\u001b[38;5;124m\"\u001b[39m), (\u001b[38;5;124m\"\u001b[39m\u001b[38;5;124mDA ↓\u001b[39m\u001b[38;5;124m\"\u001b[39m,\u001b[38;5;124m\"\u001b[39m\u001b[38;5;124mY ↓\u001b[39m\u001b[38;5;124m\"\u001b[39m),(\u001b[38;5;124m\"\u001b[39m\u001b[38;5;124mGo ↓\u001b[39m\u001b[38;5;124m\"\u001b[39m,\u001b[38;5;124m\"\u001b[39m\u001b[38;5;124mY ↓\u001b[39m\u001b[38;5;124m\"\u001b[39m)]) \u001b[38;5;66;03m#relaciones\u001b[39;00m\n\u001b[0;32m      3\u001b[0m graph\u001b[38;5;241m.\u001b[39mdraw()\n",
      "\u001b[1;31mNameError\u001b[0m: name 'CausalGraphicalModel' is not defined"
     ]
    }
   ],
   "source": [
    "graph = CausalGraphicalModel(nodes=[\"Go ↓\",\"DA ↓\",\"Y ↓\"], #variables\n",
    "                             edges=[(\"Go ↓\",\"DA ↓\"), (\"DA ↓\",\"Y ↓\"),(\"Go ↓\",\"Y ↓\")]) #relaciones\n",
    "graph.draw()"
   ]
  },
  {
   "cell_type": "code",
   "execution_count": 14,
   "id": "f6908631",
   "metadata": {},
   "outputs": [
    {
     "name": "stdout",
     "output_type": "stream",
     "text": [
      "Collecting graphviz==0.18Note: you may need to restart the kernel to use updated packages.\n",
      "  Using cached graphviz-0.18-py3-none-any.whl (38 kB)\n",
      "Installing collected packages: graphviz\n",
      "  Attempting uninstall: graphviz\n",
      "    Found existing installation: graphviz 0.18\n",
      "    Uninstalling graphviz-0.18:\n",
      "      Successfully uninstalled graphviz-0.18\n",
      "Successfully installed graphviz-0.18\n",
      "\n"
     ]
    }
   ],
   "source": [
    "pip install --force-reinstall graphviz==0.18"
   ]
  }
 ],
 "metadata": {
  "kernelspec": {
   "display_name": "Python 3 (ipykernel)",
   "language": "python",
   "name": "python3"
  },
  "language_info": {
   "codemirror_mode": {
    "name": "ipython",
    "version": 3
   },
   "file_extension": ".py",
   "mimetype": "text/x-python",
   "name": "python",
   "nbconvert_exporter": "python",
   "pygments_lexer": "ipython3",
   "version": "3.9.12"
  }
 },
 "nbformat": 4,
 "nbformat_minor": 5
}
